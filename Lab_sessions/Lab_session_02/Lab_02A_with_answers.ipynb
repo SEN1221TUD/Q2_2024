{
 "cells": [
  {
   "cell_type": "markdown",
   "metadata": {},
   "source": [
    "# SEN122A Statistical Analysis of Choice Behaviour \n",
    "\n",
    "## `Session Lab 02A:`\n",
    "## `The Mixed Logit model`\n",
    "\n",
    "**Delft University of Technology**<br>\n",
    "**Q2 2024**<br>\n",
    "**Instructor:** Sander van Cranenburgh<br>\n",
    "**TA:**  Gabriel Nova <br>"
   ]
  },
  {
   "cell_type": "markdown",
   "metadata": {},
   "source": [
    "### `Instructions`\n",
    "\n",
    "**Lab sessions aim to:**<br>\n",
    "* Illustrate how models and theory discussed in the classroom work out in practice.\n",
    "* Help you gather hands-on modelling and data analysis skills.\n",
    "\n",
    "\n",
    "**Lab sessions are:**<br>\n",
    "* Learning environments where you work with Python and get support from TA and fellow students.\n",
    "* Not graded and do not have to be submitted.\n",
    "* A good preparation for the graded partial exam."
   ]
  },
  {
   "cell_type": "markdown",
   "metadata": {},
   "source": [
    "### `Use of AI tools`\n",
    "AI tools, such as ChatGPT and Co-pilot, are great tools to assist with programming. Moreover, in your later careers, you will work in a world where such tools are widely available. As such, we **encourage** you to use AI tools **effectively**. However, be careful not to overestimate the capacity of AI tools! AI tools cannot replace you: you still have to conceptualise the problem, dissect it and structure it to conduct proper analysis. We recommend being especially **reticent** with using AI tools for the more conceptual and reflection-oriented questions. <br>\n",
    "Futhermore **be aware** that during the `partial exam`, you will not have access to these tools (since internet access will be restricted)."
   ]
  },
  {
   "cell_type": "markdown",
   "metadata": {},
   "source": [
    "### `Workspace set-up`"
   ]
  },
  {
   "cell_type": "markdown",
   "metadata": {},
   "source": [
    "**Option 1: Anaconda**<br>\n",
    "\n",
    "Uncomment the following lines if you are running this notebook on your local environment and want to use ANACONDA to set up your Python environment. \n",
    "\n",
    "Please ensure that you have activated an environment that meets the Python version described in the readme file (*3.12.7, 3.11.10, or 3.10.15*)."
   ]
  },
  {
   "cell_type": "code",
   "execution_count": null,
   "metadata": {},
   "outputs": [],
   "source": [
    "#!pip install -r requirements.txt"
   ]
  },
  {
   "cell_type": "markdown",
   "metadata": {},
   "source": [
    "**Option 2: PIP**<br>\n",
    "Uncomment the following cell if you are running this notebook on your local environment and want to use PIP to set-up your Python environment."
   ]
  },
  {
   "cell_type": "code",
   "execution_count": null,
   "metadata": {},
   "outputs": [],
   "source": [
    "#!pip install -r requirements.txt"
   ]
  },
  {
   "cell_type": "markdown",
   "metadata": {},
   "source": [
    "**Option 3: Google Colab**<br>\n",
    "Uncomment the following cell if you are running this notebook on Colab"
   ]
  },
  {
   "cell_type": "code",
   "execution_count": null,
   "metadata": {},
   "outputs": [],
   "source": [
    "#!git clone https://github.com/SEN1221TUD/Q2_2024.git\n",
    "#!mv \"/content/Q2_2024/Lab_sessions/Lab_session_02/data\" /content/data   \n",
    "\n",
    "#!pip install biogeme\n",
    "#import os\n",
    "#os.kill(os.getpid(), 9)"
   ]
  },
  {
   "cell_type": "markdown",
   "metadata": {},
   "source": [
    "### `Application: Estimating the Value of Travel Time`\n",
    "\n",
    "In this lab session, we will investigate the \"Value of Travel Time\" (VTT) distribution. The VTT of a traveller reflects the amount of money the traveller is **willing to pay** to reduce their travel time. The VTT is used to determine the benefits of new infrastructure projects. As travel time savings are the dominant and most salient benefits of new infrastructure, accurate inference of the distribution of the VTT is crucial for a rigorous underpinning of policy decisions. <br>\n",
    "\n",
    "During this lab, we will apply Mixed Logit choice models. We aim to uncover how tastes for travel time and travel cost are distributed in the population. Most of the analyses in this lab session are carried out in the so-called willingness-to-pay space. Willingness-to-pay space facilitates the inference of the VTT distribution.<br>\n",
    "\n",
    "For this study, we will use Stated Choice (SC) data (`Norway_VTT_2009.csv`) collected in 2009 to compute the Norwegian VTT. In this SC experiment, respondents faced nine choice tasks involving two alternatives and two attributes (travel cost and travel time). The data set consists of 5,832 participants, resulting in a total of 52,488 choice observations. The figure below shows one of the choice tasks (note that for the purposes of illustration we converted the currency unit (Kronor) into euros).\n",
    "\n",
    "![SC](data/sc_experiment.png)\n",
    "\n",
    "**`Learning objectives lab session 02A`**\n",
    "\n",
    "After completing the following exercises, you will be able to:\n",
    "* Estimate Mixed Logit models that capture taste heterogeneity and panel effects\n",
    "* Interpret the modelling outcomes of Mixed Logit models\n",
    "* Specify utility models in Willingness-to-pay space\n",
    "\n",
    "\n",
    "\n",
    "**`This lab consists of 4 parts and has 2 exercises`**\n",
    "\n",
    "**Part 1**: Load and explore the data set\n",
    "\n",
    "**Part 2**: Linear-additive RUM-MNL model\n",
    "\n",
    "**Part 3**: Mixed Logit model for capturing taste heterogeneity \n",
    "- Exercise 1: \"Mixed Logit model with a normally distributed beta_tt\"\n",
    "\n",
    "**Part 4**: Willingness-to-Pay space \n",
    "- Exercise 2: \"Mixed Logit model with log-normally distributed VTT\"\n",
    "\n"
   ]
  },
  {
   "cell_type": "markdown",
   "metadata": {},
   "source": [
    "### `Import packages`"
   ]
  },
  {
   "cell_type": "markdown",
   "metadata": {},
   "source": [
    "To begin, we will import all the libraries that we will use in this lab."
   ]
  },
  {
   "cell_type": "code",
   "execution_count": 1,
   "metadata": {},
   "outputs": [],
   "source": [
    "# Biogeme\n",
    "import biogeme.database as db\n",
    "import biogeme.biogeme as bio\n",
    "import biogeme.biogeme_logging as blog\n",
    "from biogeme import models\n",
    "from biogeme.expressions import Beta, Variable, bioDraws, log, MonteCarlo, exp, bioMultSum, exp\n",
    "\n",
    "\n",
    "# General packages\n",
    "import pandas as pd\n",
    "import numpy as np\n",
    "import matplotlib.pyplot as plt \n",
    "import time\n",
    "from pathlib import Path\n",
    "from scipy.stats import norm, lognorm\n",
    "\n",
    "# Pandas setting to show all columns when displaying a pandas dataframe\n",
    "pd.set_option('display.max_columns', None)"
   ]
  },
  {
   "cell_type": "markdown",
   "metadata": {},
   "source": [
    "We invoke a so-called `logger` which enables us to see the progress during estimation.<br>"
   ]
  },
  {
   "cell_type": "code",
   "execution_count": 2,
   "metadata": {},
   "outputs": [
    {
     "name": "stdout",
     "output_type": "stream",
     "text": [
      "Logger has been initialised\n"
     ]
    }
   ],
   "source": [
    "# Initialize the logger, if it has not been initialized yet\n",
    "try:\n",
    "    logger\n",
    "except NameError:    \n",
    "    logger = blog.get_screen_logger(level=blog.INFO)\n",
    "    print('Logger has been initialised')"
   ]
  },
  {
   "cell_type": "markdown",
   "metadata": {},
   "source": [
    "## `1. Load and explore the data set` <br>"
   ]
  },
  {
   "cell_type": "markdown",
   "metadata": {},
   "source": [
    "First, we load the data."
   ]
  },
  {
   "cell_type": "code",
   "execution_count": 3,
   "metadata": {},
   "outputs": [
    {
     "data": {
      "text/html": [
       "<div>\n",
       "<style scoped>\n",
       "    .dataframe tbody tr th:only-of-type {\n",
       "        vertical-align: middle;\n",
       "    }\n",
       "\n",
       "    .dataframe tbody tr th {\n",
       "        vertical-align: top;\n",
       "    }\n",
       "\n",
       "    .dataframe thead th {\n",
       "        text-align: right;\n",
       "    }\n",
       "</style>\n",
       "<table border=\"1\" class=\"dataframe\">\n",
       "  <thead>\n",
       "    <tr style=\"text-align: right;\">\n",
       "      <th></th>\n",
       "      <th>RespID</th>\n",
       "      <th>CostL</th>\n",
       "      <th>CostR</th>\n",
       "      <th>TimeL</th>\n",
       "      <th>TimeR</th>\n",
       "      <th>Chosen</th>\n",
       "      <th>Mode</th>\n",
       "      <th>Purpose</th>\n",
       "      <th>Gender</th>\n",
       "      <th>AgeClass</th>\n",
       "      <th>IncClass</th>\n",
       "    </tr>\n",
       "  </thead>\n",
       "  <tbody>\n",
       "    <tr>\n",
       "      <th>count</th>\n",
       "      <td>52488.00</td>\n",
       "      <td>52488.00</td>\n",
       "      <td>52488.00</td>\n",
       "      <td>52488.00</td>\n",
       "      <td>52488.00</td>\n",
       "      <td>52488.00</td>\n",
       "      <td>52488.00</td>\n",
       "      <td>52488.00</td>\n",
       "      <td>52488.00</td>\n",
       "      <td>52488.00</td>\n",
       "      <td>52488.0</td>\n",
       "    </tr>\n",
       "    <tr>\n",
       "      <th>mean</th>\n",
       "      <td>32776.25</td>\n",
       "      <td>181.57</td>\n",
       "      <td>184.83</td>\n",
       "      <td>98.50</td>\n",
       "      <td>97.83</td>\n",
       "      <td>1.48</td>\n",
       "      <td>1.85</td>\n",
       "      <td>3.28</td>\n",
       "      <td>1.45</td>\n",
       "      <td>3.20</td>\n",
       "      <td>5.0</td>\n",
       "    </tr>\n",
       "    <tr>\n",
       "      <th>std</th>\n",
       "      <td>14995.46</td>\n",
       "      <td>281.07</td>\n",
       "      <td>286.95</td>\n",
       "      <td>134.33</td>\n",
       "      <td>133.42</td>\n",
       "      <td>0.50</td>\n",
       "      <td>1.80</td>\n",
       "      <td>1.64</td>\n",
       "      <td>0.50</td>\n",
       "      <td>0.99</td>\n",
       "      <td>2.3</td>\n",
       "    </tr>\n",
       "    <tr>\n",
       "      <th>min</th>\n",
       "      <td>32.00</td>\n",
       "      <td>4.00</td>\n",
       "      <td>4.00</td>\n",
       "      <td>6.00</td>\n",
       "      <td>6.00</td>\n",
       "      <td>1.00</td>\n",
       "      <td>1.00</td>\n",
       "      <td>1.00</td>\n",
       "      <td>1.00</td>\n",
       "      <td>1.00</td>\n",
       "      <td>1.0</td>\n",
       "    </tr>\n",
       "    <tr>\n",
       "      <th>25%</th>\n",
       "      <td>19195.25</td>\n",
       "      <td>25.00</td>\n",
       "      <td>25.00</td>\n",
       "      <td>18.00</td>\n",
       "      <td>17.00</td>\n",
       "      <td>1.00</td>\n",
       "      <td>1.00</td>\n",
       "      <td>2.00</td>\n",
       "      <td>1.00</td>\n",
       "      <td>2.00</td>\n",
       "      <td>4.0</td>\n",
       "    </tr>\n",
       "    <tr>\n",
       "      <th>50%</th>\n",
       "      <td>33039.50</td>\n",
       "      <td>69.00</td>\n",
       "      <td>70.00</td>\n",
       "      <td>40.00</td>\n",
       "      <td>40.00</td>\n",
       "      <td>1.00</td>\n",
       "      <td>1.00</td>\n",
       "      <td>4.00</td>\n",
       "      <td>1.00</td>\n",
       "      <td>3.00</td>\n",
       "      <td>5.0</td>\n",
       "    </tr>\n",
       "    <tr>\n",
       "      <th>75%</th>\n",
       "      <td>45333.00</td>\n",
       "      <td>236.00</td>\n",
       "      <td>238.00</td>\n",
       "      <td>121.00</td>\n",
       "      <td>122.00</td>\n",
       "      <td>2.00</td>\n",
       "      <td>2.00</td>\n",
       "      <td>5.00</td>\n",
       "      <td>2.00</td>\n",
       "      <td>4.00</td>\n",
       "      <td>6.0</td>\n",
       "    </tr>\n",
       "    <tr>\n",
       "      <th>max</th>\n",
       "      <td>60130.00</td>\n",
       "      <td>5282.00</td>\n",
       "      <td>5221.00</td>\n",
       "      <td>2011.00</td>\n",
       "      <td>1855.00</td>\n",
       "      <td>2.00</td>\n",
       "      <td>8.00</td>\n",
       "      <td>5.00</td>\n",
       "      <td>2.00</td>\n",
       "      <td>5.00</td>\n",
       "      <td>11.0</td>\n",
       "    </tr>\n",
       "  </tbody>\n",
       "</table>\n",
       "</div>"
      ],
      "text/plain": [
       "         RespID     CostL     CostR     TimeL     TimeR    Chosen      Mode  \\\n",
       "count  52488.00  52488.00  52488.00  52488.00  52488.00  52488.00  52488.00   \n",
       "mean   32776.25    181.57    184.83     98.50     97.83      1.48      1.85   \n",
       "std    14995.46    281.07    286.95    134.33    133.42      0.50      1.80   \n",
       "min       32.00      4.00      4.00      6.00      6.00      1.00      1.00   \n",
       "25%    19195.25     25.00     25.00     18.00     17.00      1.00      1.00   \n",
       "50%    33039.50     69.00     70.00     40.00     40.00      1.00      1.00   \n",
       "75%    45333.00    236.00    238.00    121.00    122.00      2.00      2.00   \n",
       "max    60130.00   5282.00   5221.00   2011.00   1855.00      2.00      8.00   \n",
       "\n",
       "        Purpose    Gender  AgeClass  IncClass  \n",
       "count  52488.00  52488.00  52488.00   52488.0  \n",
       "mean       3.28      1.45      3.20       5.0  \n",
       "std        1.64      0.50      0.99       2.3  \n",
       "min        1.00      1.00      1.00       1.0  \n",
       "25%        2.00      1.00      2.00       4.0  \n",
       "50%        4.00      1.00      3.00       5.0  \n",
       "75%        5.00      2.00      4.00       6.0  \n",
       "max        5.00      2.00      5.00      11.0  "
      ]
     },
     "execution_count": 3,
     "metadata": {},
     "output_type": "execute_result"
    }
   ],
   "source": [
    "# 1. Load the data set\n",
    "data_path = Path('data/Norway_VTT_2009.csv')\n",
    "df = pd.read_table(data_path, sep=',')\n",
    "\n",
    "# Show descriptive statistics\n",
    "round(df.describe(),2)"
   ]
  },
  {
   "cell_type": "markdown",
   "metadata": {},
   "source": [
    "This data set contains the following variables:<br>\n",
    "\n",
    "| Variable       | Description                                                  | Type    |\n",
    "|---------------|-------------------------------------------------------------|---------|\n",
    "| `RespID`        | Unique identifier for each survey response             | Integer |\n",
    "| `CostL`         | Travel cost of left alternative [min]                  | Decimal |\n",
    "| `CostR`         | Travel cost of right alternative [min]                 | Decimal |\n",
    "| `TimeL`         | Travel time of left alternative [eur]                  | Decimal |\n",
    "| `TimeR`         | Travel time of right alternative [eur]                 | Decimal |\n",
    "| `Chosen`        | Indicates the alternative chosen       | Categorical |\n",
    "| `Mode`          | Type of Transport mode               | Categorical    |\n",
    "| `Gender`        | Gender of the respondent                                     | Categorical    |\n",
    "| `AgeClass`      | Classification of the respondent's age                       | Categorical    |\n",
    "| `IncClass`      | Classification of the respondent's income                    | Categorical    |\n",
    "| `Purpose`       | Purpose of the trip                                     | Integer    |\n"
   ]
  },
  {
   "cell_type": "markdown",
   "metadata": {},
   "source": [
    "Now, we take the following data preprocessing steps:\n",
    "\n",
    "1. We keep only observations for the purpose 'long distance commute' and travel model 'car'.\n",
    "\n",
    "2. We convert the unit of cost from Norwegian Krone to euros to ease interpretation."
   ]
  },
  {
   "cell_type": "code",
   "execution_count": 4,
   "metadata": {},
   "outputs": [],
   "source": [
    "# 1. Keep only entries purpose == 5 (Long distance trips) & Mode == 1 (Car)\n",
    "df = df.loc[(df['Purpose'] == 5) & (df['Mode'] == 1)]"
   ]
  },
  {
   "cell_type": "code",
   "execution_count": 5,
   "metadata": {},
   "outputs": [],
   "source": [
    "# 2. Convert the monetary unit to euros\n",
    "NOK2euro_exchange_rate = 9\n",
    "df[['CostL','CostR']] = df[['CostL','CostR']] .div(NOK2euro_exchange_rate)"
   ]
  },
  {
   "cell_type": "markdown",
   "metadata": {},
   "source": [
    "## `2. Linear-additive RUM-MNL model`<br>\n",
    "We first estimate a linear-aditive RUM-MNL model. This model serves as our **benchmark** to compare against. But, before we can do this, we need to create the Biogeme database object and specify the optimiser and logger settings. "
   ]
  },
  {
   "cell_type": "markdown",
   "metadata": {},
   "source": [
    "`Biogeme database`<br>\n",
    "To estimate a model in Biogeme, we must create the data set as a Biogeme database object and the attributes as Biogeme variable objects."
   ]
  },
  {
   "cell_type": "code",
   "execution_count": 6,
   "metadata": {},
   "outputs": [],
   "source": [
    "# Create Biogeme database object\n",
    "biodata = db.Database('Norway2009VTT', df)\n",
    "\n",
    "# Create Biogeme variable objects\n",
    "CostL  = Variable('CostL')\n",
    "CostR  = Variable('CostR')\n",
    "TimeL  = Variable('TimeL')\n",
    "TimeR  = Variable('TimeR')\n",
    "Chosen = Variable('Chosen')\t"
   ]
  },
  {
   "cell_type": "markdown",
   "metadata": {},
   "source": [
    "`Create a linear-additive RUM-MNL model`<br>\n",
    "Now, we have the biogeme database object and set the environment, we can estimate our first model."
   ]
  },
  {
   "cell_type": "code",
   "execution_count": 7,
   "metadata": {},
   "outputs": [
    {
     "name": "stderr",
     "output_type": "stream",
     "text": [
      "Biogeme parameters read from biogeme.toml. \n"
     ]
    }
   ],
   "source": [
    "# Give the model a name\n",
    "model_name = 'Benchmark MNL VTT model'\n",
    "\n",
    "# Define model parameters\n",
    "B_tt = Beta('B_tt', -0.1, None, None, 0)\n",
    "B_tc = Beta('B_tc', -0.1, None, None, 0)\n",
    "\n",
    "# Definition of the utility functions\n",
    "VL = B_tt * TimeL + B_tc * CostL\n",
    "VR = B_tt * TimeR + B_tc * CostR\n",
    "\n",
    "# Associate utility functions with alternatives\n",
    "V = {1: VL, 2: VR}     \n",
    "\n",
    "# Associate the availability conditions with the alternatives\n",
    "av = {1: 1, 2: 1} \n",
    "\n",
    "# Compute probability of the chosen alternative\n",
    "prob = models.logit(V, av, Chosen)\n",
    "\n",
    "# Take the log of the probability\n",
    "logprob = log(prob)\n",
    "\n",
    "# Create the Biogeme estimation object containing the data and the model\n",
    "biogeme = bio.BIOGEME(biodata, logprob)\n",
    "\n",
    "# Compute the null loglikelihood for reporting\n",
    "biogeme.nullLogLike = biogeme.calculate_null_loglikelihood(av)\n",
    "\n",
    "# Set reporting levels\n",
    "biogeme.generate_pickle = False\n",
    "biogeme.generate_html = False\n",
    "biogeme.save_iterations = False\n",
    "biogeme.modelName = model_name"
   ]
  },
  {
   "cell_type": "code",
   "execution_count": 8,
   "metadata": {},
   "outputs": [
    {
     "name": "stderr",
     "output_type": "stream",
     "text": [
      "As the model is not too complex, we activate the calculation of second derivatives. If you want to change it, change the name of the algorithm in the TOML file from \"automatic\" to \"simple_bounds\" \n",
      "As the model is not too complex, we activate the calculation of second derivatives. If you want to change it, change the name of the algorithm in the TOML file from \"automatic\" to \"simple_bounds\" \n",
      "Optimization algorithm: hybrid Newton/BFGS with simple bounds [simple_bounds] \n",
      "** Optimization: Newton with trust region for simple bounds \n",
      "Iter.            B_tc            B_tt     Function    Relgrad   Radius      Rho      \n",
      "    0            -0.1            -0.1      1.3e+04         13     0.14    -0.91    - \n",
      "    1          -0.059           0.042      1.1e+04         10     0.14     0.14    + \n",
      "    2          -0.059           0.042      1.1e+04         10    0.071     -3.1    - \n",
      "    3          -0.059           0.042      1.1e+04         10    0.035    -0.12    - \n",
      "    4          -0.023          0.0064        7e+03        3.3    0.035     0.85    + \n",
      "    5          -0.059          -0.019      6.3e+03          1     0.35     0.94   ++ \n",
      "    6          -0.094           -0.03        6e+03       0.24      3.5      1.2   ++ \n",
      "    7           -0.11          -0.034        6e+03       0.02       35      1.1   ++ \n",
      "    8           -0.11          -0.034        6e+03    0.00015  3.5e+02        1   ++ \n",
      "    9           -0.11          -0.034        6e+03    8.9e-09  3.5e+02        1   ++ \n"
     ]
    },
    {
     "name": "stdout",
     "output_type": "stream",
     "text": [
      "Number of estimated parameters:\t2\n",
      "Sample size:\t10926\n",
      "Excluded observations:\t0\n",
      "Null log likelihood:\t-7573.326\n",
      "Init log likelihood:\t-12639.01\n",
      "Final log likelihood:\t-6033.756\n",
      "Likelihood ratio test for the null model:\t3079.141\n",
      "Rho-square for the null model:\t0.203\n",
      "Rho-square-bar for the null model:\t0.203\n",
      "Likelihood ratio test for the init. model:\t13210.51\n",
      "Rho-square for the init. model:\t0.523\n",
      "Rho-square-bar for the init. model:\t0.522\n",
      "Akaike Information Criterion:\t12071.51\n",
      "Bayesian Information Criterion:\t12086.11\n",
      "Final gradient norm:\t1.5496E-04\n",
      "Nbr of threads:\t11\n",
      "\n",
      "         Value  Rob. Std err  Rob. t-test  Rob. p-value\n",
      "B_tc -0.107428      0.003714   -28.921834           0.0\n",
      "B_tt -0.033949      0.001366   -24.852251           0.0\n"
     ]
    }
   ],
   "source": [
    "# Estimate the MNL model and print the results\n",
    "results = biogeme.estimate()\n",
    "print(results.print_general_statistics())\n",
    "\n",
    "# Get the results in a pandas table\n",
    "beta_hat = results.get_estimated_parameters()\n",
    "print(beta_hat)"
   ]
  },
  {
   "cell_type": "markdown",
   "metadata": {},
   "source": [
    "`Compute the Value of Travel Time`<br><br>\n",
    "The linear-additive RUM-MNL model allows for easy computation of the (mean) VTT. <br>\n",
    "\n",
    "$VTT = {\\frac{dV}{dtt}}/{\\frac{dV}{dtc}}$<br><br>\n",
    "$VTT = \\frac{\\beta_{tt}}{\\beta_{tc}}$\n",
    "\n",
    "To take the ratio, we access the estimated betas in the `beta_hat` dataframe that was created in the previous cell."
   ]
  },
  {
   "cell_type": "code",
   "execution_count": 9,
   "metadata": {},
   "outputs": [
    {
     "name": "stdout",
     "output_type": "stream",
     "text": [
      "Value of travel time MNL model:  €18.96 per hour\n"
     ]
    }
   ],
   "source": [
    "# Compute the value of travel time and print the mean VTT\n",
    "# We multiply by 60 to convert the value of travel time from minutes to hours\n",
    "VTT_MNL = 60*(beta_hat.loc['B_tt']['Value']/beta_hat.loc['B_tc']['Value'])\n",
    "print(f'Value of travel time MNL model:  €{VTT_MNL:.2f} per hour')"
   ]
  },
  {
   "cell_type": "markdown",
   "metadata": {},
   "source": [
    "## `3. Mixed Logit model for capturing taste heterogeneity`"
   ]
  },
  {
   "cell_type": "markdown",
   "metadata": {},
   "source": [
    "### `3.1 Theory`<br>\n",
    "In the MNL model, we postulate that tastes (e.g., 𝛽_tc) are equal across people in the population. As such, the taste parameter of an MNL model represents the mean taste in the population. The Mixed Logit (ML) model resolves this limitation. It explicitly models taste heterogeneity by means of random variables.\n",
    "\n",
    "Mathematically, the unconditional choice probability is given by:\n",
    "\n",
    "$P_{ni} = \\int_{\\beta_n}    [P_{ni}|\\beta_n] \\cdot f(\\beta_n|\\sigma)d\\beta_n$\n",
    "\n",
    "As can be seen, the ML choice probability does not have a closed-form expression. Therefore, it needs to be approximated using simulation.<br>\n",
    "To do that, we simulate the choice probabilities using a large number of draws `(R)` from the density function $f(β_n|\\sigma)$. <br>\n",
    "That is, we compute the conditional choice probability (which is a simple MNL) for each draw of $\\beta_n^{r}$ with $r=1,..,R$, and then take the average across the draws to compute the unconditional choice probability.\n",
    "\n",
    "<span style=\"text-decoration: overline;\">P</span>$_{ni} = \\frac{1}{R} \\sum_{r=1}^R P_{ni}(β_n^r)$\n",
    "\n",
    "Finally, we use the unconditional choice probabilities to compute the Log-Likelihood of the data given the model:\n",
    "\n",
    "$LL(X,|\\beta,\\sigma)= \\sum_{n=1}^N \\sum_{j=1}^J y_{nj} \\cdot ln($<span style=\"text-decoration: overline;\">P</span>$_{nj})$"
   ]
  },
  {
   "cell_type": "markdown",
   "metadata": {},
   "source": [
    "### `3.2 ML with normally distributed taste parameters`"
   ]
  },
  {
   "cell_type": "markdown",
   "metadata": {},
   "source": [
    "To estimate an ML, model with normally distributed taste parameters, we must specify the random parameters (for all randomly distributed betas that we wish to estimate). To do this in Biogeme, we use the following code to construct the random parameter for $\\beta_{tt}$:<br>\n",
    "\n",
    "                B_tt_rnd = B_tt + sigma_tt * bioDraws('B_tt_rnd', 'NORMAL_HALTON2')\n",
    "\n",
    "Note that apart from the random parameter for B_tt_rnd, the utility function is the same as under our linear-additive RUM-MNL benchmark model"
   ]
  },
  {
   "cell_type": "markdown",
   "metadata": {},
   "source": [
    "`Model specification` <br>\n",
    "\n",
    "Now, we will define random and nonrandom parameters, the utility functions, and their availabilities. <br>"
   ]
  },
  {
   "cell_type": "code",
   "execution_count": 10,
   "metadata": {},
   "outputs": [],
   "source": [
    "# Define the model parameters\n",
    "B_tt = Beta('b_tt', -0.1, None, None, 0)\n",
    "B_tc = Beta('b_tc', -0.1, None, None, 0)    \n",
    "sigma_tt = Beta('sigma_tt', 1, None, None, 0)\n",
    "sigma_tc = Beta('sigma_tc', 1, None, None, 0)\n",
    "\n",
    "# Construct the random taste parameter for beta_tt\n",
    "B_tt_rnd = B_tt + sigma_tt * bioDraws('B_tt_rnd', 'NORMAL_HALTON2')\n",
    "B_tc_rnd = B_tc + sigma_tc * bioDraws('B_tc_rnd', 'NORMAL_HALTON2')\n",
    "\n",
    "# Definition of the utility functions \n",
    "V_L = B_tt_rnd * TimeL + B_tc_rnd * CostL\n",
    "V_R = B_tt_rnd * TimeR + B_tc_rnd * CostR   \n",
    "\n",
    "# Create a dictionary to list the utility functions with the numbering of alternatives\n",
    "V = {1: V_L, 2: V_R}\n",
    "            \n",
    " # Create a dictionary to describe the availability conditions of each alternative\n",
    "av = {1: 1, 2: 1} "
   ]
  },
  {
   "cell_type": "markdown",
   "metadata": {},
   "source": [
    "`Estimation through simulation` \n",
    "\n",
    "We use the Monte Carlo simulation to estimate the random parameter. "
   ]
  },
  {
   "cell_type": "code",
   "execution_count": 11,
   "metadata": {},
   "outputs": [
    {
     "name": "stderr",
     "output_type": "stream",
     "text": [
      "Biogeme parameters read from biogeme.toml. \n"
     ]
    }
   ],
   "source": [
    "# Give the model a name\n",
    "model_name = 'ML with normal distributed B_tt and B_tc'\n",
    "\n",
    "# The conditional probability of the chosen alternative is a logit\n",
    "condProb = models.logit(V, av ,Chosen)\n",
    "\n",
    "# The unconditional probability is obtained by simulation\n",
    "uncondProb = MonteCarlo(condProb)\n",
    "\n",
    "# The Log-likelihood is the log of the unconditional probability\n",
    "LL = log(uncondProb)\n",
    "\n",
    "# Create the Biogeme estimation object containing the data and the model\n",
    "num_draws = 100\n",
    "biogeme = bio.BIOGEME(biodata , LL,number_of_draws=num_draws)\n",
    "\n",
    "# Set reporting levels\n",
    "biogeme.generate_pickle = False\n",
    "biogeme.generate_html = False\n",
    "biogeme.save_iterations = False\n",
    "biogeme.modelName = model_name"
   ]
  },
  {
   "cell_type": "code",
   "execution_count": 12,
   "metadata": {},
   "outputs": [
    {
     "name": "stderr",
     "output_type": "stream",
     "text": [
      "As the model is rather complex, we cancel the calculation of second derivatives. If you want to control the parameters, change the name of the algorithm in the TOML file from \"automatic\" to \"simple_bounds\" \n",
      "The number of draws (100) is low. The results may not be meaningful. \n",
      "As the model is rather complex, we cancel the calculation of second derivatives. If you want to control the parameters, change the name of the algorithm in the TOML file from \"automatic\" to \"simple_bounds\" \n",
      "Optimization algorithm: hybrid Newton/BFGS with simple bounds [simple_bounds] \n",
      "** Optimization: BFGS with trust region for simple bounds \n",
      "Iter.            b_tc            b_tt        sigma_tc        sigma_tt     Function    Relgrad   Radius      Rho      \n",
      "    0            -0.1            -0.1               1               1      7.6e+03        1.9      0.5     0.02    - \n",
      "    1            -0.1            -0.1               1               1      7.6e+03        1.9     0.25    0.069    - \n",
      "    2           -0.35            0.15            0.75             1.2      6.6e+03       0.19     0.25     0.14    + \n",
      "    3           -0.35            0.15            0.75             1.2      6.6e+03       0.19     0.12    -0.19    - \n",
      "    4           -0.33           0.083            0.62             1.3      6.6e+03       0.17     0.12     0.24    + \n",
      "    5           -0.45            0.12            0.61             1.3      6.4e+03      0.075      1.2      1.1   ++ \n",
      "    6           -0.45            0.12            0.61             1.3      6.4e+03      0.075     0.62   -0.069    - \n",
      "    7            -1.1           -0.27             0.5             1.1      6.3e+03       0.34     0.62     0.39    + \n",
      "    8            -1.7           -0.54           0.046             1.1      5.9e+03       0.12     0.62      0.6    + \n",
      "    9            -1.7           -0.54           0.046             1.1      5.9e+03       0.12     0.31       -2    - \n",
      "   10            -1.7           -0.54           0.046             1.1      5.9e+03       0.12     0.16    -0.42    - \n",
      "   11            -1.9           -0.39          -0.058            0.99      5.8e+03       0.09     0.16     0.39    + \n",
      "   12            -1.9           -0.54          -0.083            0.93      5.8e+03      0.063      1.6     0.96   ++ \n",
      "   13            -1.9           -0.54          -0.083            0.93      5.8e+03      0.063     0.78     -5.5    - \n",
      "   14            -1.9           -0.54          -0.083            0.93      5.8e+03      0.063     0.39      -35    - \n",
      "   15            -1.9           -0.54          -0.083            0.93      5.8e+03      0.063      0.2     -4.7    - \n",
      "   16            -1.9           -0.54          -0.083            0.93      5.8e+03      0.063    0.098     -1.4    - \n",
      "   17            -1.9           -0.54          -0.083            0.93      5.8e+03      0.063    0.049    0.029    - \n",
      "   18            -1.9           -0.52          -0.073            0.88      5.7e+03      0.057    0.049      0.6    + \n",
      "   19            -1.9           -0.57           -0.12            0.87      5.7e+03      0.061    0.049     0.79    + \n",
      "   20            -1.9           -0.55           -0.12            0.82      5.7e+03      0.049     0.49        1   ++ \n",
      "   21            -2.1           -0.63           -0.59            0.34      5.7e+03        0.2     0.49     0.14    + \n",
      "   22            -2.1           -0.63           -0.59            0.34      5.7e+03        0.2     0.24    -0.24    - \n",
      "   23            -2.1           -0.63           -0.59            0.34      5.7e+03        0.2     0.12    -0.14    - \n",
      "   24            -2.1           -0.51           -0.71            0.46      5.6e+03      0.084     0.12     0.31    + \n",
      "   25            -2.1           -0.51           -0.71            0.46      5.6e+03      0.084    0.061    -0.99    - \n",
      "   26            -2.1           -0.57           -0.72            0.44      5.6e+03      0.022    0.061     0.86    + \n",
      "   27            -2.1           -0.57           -0.72            0.44      5.6e+03      0.022    0.031    -0.11    - \n",
      "   28            -2.1           -0.55           -0.71            0.41      5.6e+03      0.017    0.031     0.48    + \n",
      "   29            -2.1           -0.56           -0.74             0.4      5.6e+03      0.013     0.31     0.92   ++ \n",
      "   30            -2.1           -0.56           -0.74             0.4      5.6e+03      0.013     0.15     -1.1    - \n",
      "   31            -2.1           -0.56           -0.74             0.4      5.6e+03      0.013    0.076    -0.75    - \n",
      "   32            -2.1           -0.56           -0.74             0.4      5.6e+03      0.013    0.038    -0.35    - \n",
      "   33            -2.1           -0.54           -0.78             0.4      5.6e+03      0.016    0.038     0.23    + \n",
      "   34            -2.1           -0.54           -0.79            0.36      5.6e+03      0.016    0.038     0.24    + \n",
      "   35            -2.1           -0.53           -0.83            0.36      5.6e+03     0.0036    0.038     0.69    + \n",
      "   36            -2.1           -0.53           -0.83            0.36      5.6e+03     0.0036    0.019     -1.8    - \n",
      "   37            -2.1           -0.53           -0.83            0.36      5.6e+03     0.0036   0.0095    -0.27    - \n",
      "   38            -2.1           -0.53           -0.84            0.36      5.6e+03     0.0024   0.0095     0.37    + \n",
      "   39            -2.1           -0.53           -0.84            0.35      5.6e+03     0.0018   0.0095     0.43    + \n",
      "   40            -2.1           -0.53           -0.83            0.36      5.6e+03     0.0011   0.0095     0.17    + \n",
      "   41            -2.1           -0.52           -0.83            0.35      5.6e+03    0.00097   0.0095     0.76    + \n",
      "   42            -2.1           -0.52           -0.82            0.35      5.6e+03    0.00073    0.095     0.97   ++ \n",
      "   43              -2            -0.5           -0.79            0.33      5.6e+03    0.00086     0.95      1.1   ++ \n",
      "   44              -1           -0.25           -0.43            0.16      5.6e+03      0.025     0.95     0.25    + \n",
      "   45            -1.6           -0.41           -0.66            0.27      5.6e+03     0.0021     0.95     0.12    + \n",
      "   46            -1.4           -0.35           -0.55            0.23      5.5e+03     0.0035      9.5      1.9   ++ \n",
      "   47            -1.4           -0.35           -0.55            0.23      5.5e+03     0.0035        4 -1.2e+03    - \n",
      "   48            -1.4           -0.35           -0.55            0.23      5.5e+03     0.0035        2 -1.6e+03    - \n",
      "   49            -1.4           -0.35           -0.55            0.23      5.5e+03     0.0035        1 -2.5e+03    - \n",
      "   50            -1.4           -0.35           -0.55            0.23      5.5e+03     0.0035      0.5      -12    - \n",
      "   51           -0.88           -0.22           -0.35            0.14      5.5e+03      0.011      0.5     0.41    + \n",
      "   52           -0.88           -0.22           -0.35            0.14      5.5e+03      0.011     0.14    0.003    - \n",
      "   53              -1           -0.26           -0.41            0.16      5.5e+03      0.011     0.14     0.24    + \n",
      "   54              -1           -0.26           -0.41            0.16      5.5e+03      0.011    0.056     -1.4    - \n",
      "   55              -1           -0.26           -0.41            0.16      5.5e+03      0.011    0.028    -0.54    - \n",
      "   56              -1           -0.26           -0.41            0.16      5.5e+03      0.011    0.014    -0.16    - \n",
      "   57              -1           -0.26           -0.41            0.16      5.5e+03      0.011    0.007     0.03    - \n",
      "   58              -1           -0.26           -0.41            0.16      5.5e+03       0.01    0.007     0.12    + \n",
      "   59              -1           -0.26           -0.41            0.16      5.5e+03       0.01   0.0035    -0.58    - \n",
      "   60              -1           -0.26           -0.41            0.17      5.5e+03     0.0058   0.0035      0.2    + \n",
      "   61              -1           -0.26           -0.41            0.16      5.5e+03     0.0021   0.0035     0.79    + \n",
      "   62              -1           -0.26           -0.41            0.16      5.5e+03      0.001   0.0035     0.73    + \n",
      "   63              -1           -0.26           -0.41            0.16      5.5e+03    3.9e-05   0.0035     0.99    + \n"
     ]
    },
    {
     "name": "stdout",
     "output_type": "stream",
     "text": [
      "Number of estimated parameters:\t4\n",
      "Sample size:\t10926\n",
      "Excluded observations:\t0\n",
      "Init log likelihood:\t-7641.489\n",
      "Final log likelihood:\t-5549.062\n",
      "Likelihood ratio test for the init. model:\t4184.855\n",
      "Rho-square for the init. model:\t0.274\n",
      "Rho-square-bar for the init. model:\t0.273\n",
      "Akaike Information Criterion:\t11106.12\n",
      "Bayesian Information Criterion:\t11135.32\n",
      "Final gradient norm:\t4.4397E-01\n",
      "Number of draws:\t100\n",
      "Draws generation time:\t0:00:00.832968\n",
      "Types of draws:\t['B_tc_rnd: NORMAL_HALTON2', 'B_tt_rnd: NORMAL_HALTON2']\n",
      "Nbr of threads:\t11\n",
      "\n",
      "             Value  Rob. Std err  Rob. t-test  Rob. p-value\n",
      "b_tc     -1.020582      0.290921    -3.508113      0.000451\n",
      "b_tt     -0.259188      0.071953    -3.602177      0.000316\n",
      "sigma_tc -0.407975      0.121752    -3.350881      0.000806\n",
      "sigma_tt  0.164019      0.052703     3.112130      0.001857\n"
     ]
    }
   ],
   "source": [
    "# Estimate the model and print the results\n",
    "results = biogeme.estimate()\n",
    "\n",
    "# Print the results in a table\n",
    "# Note that print_general_statistics() gives more information than short_summary(), which we used before\n",
    "print(results.print_general_statistics())\n",
    "\n",
    "# Get the estimated parameters in a pandas table\n",
    "beta_hat = results.get_estimated_parameters()\n",
    "print(beta_hat)"
   ]
  },
  {
   "cell_type": "markdown",
   "metadata": {},
   "source": [
    "### `3.3 Reflection`<br>\n",
    "We can make the following observations from the results of the ML model:\n",
    "1. The model fits the data better than the linear-additive RUM-MNL model. So this model is preferred over the linear-additive RUM-MNL model.\n",
    "2. The estimated standard deviations of the random parameters are significant, indicating that there is substantial taste heterogeneity in the population.\n"
   ]
  },
  {
   "cell_type": "markdown",
   "metadata": {},
   "source": [
    "**However**, the ML model with two normally distributed random parameters does not provide a way to compute the VTT. When we would compute the VTT by taking the ratio of $\\beta_{time}$ over $\\beta_{cost}$ we end up dividing by $\\beta_{tc}$ because the **normal** distribution has mass at zero. In other words, the model predicts some people don't care about cost. This implies they would have a infinite VTT, and the mean VTT would be infinite as well. Thus, a normally distributed $\\beta_{tc}$ is generally not a good idea if one want to compute the VTT."
   ]
  },
  {
   "cell_type": "markdown",
   "metadata": {},
   "source": [
    "## `Exercise 1: Mixed Logit model with a normally distributed beta_tt`"
   ]
  },
  {
   "cell_type": "markdown",
   "metadata": {},
   "source": [
    "`A` Modify the code to estimate the ML model above, such that the model only treat  $\\beta_{tt}$ as a random variable.\n",
    "\n",
    "`B` Compute the **mean** VTT for the model with only $\\beta_{tt}$ as a random variable. The mean of a normal distribution is given by the mean of the random parameter. So, the mean VTT is given by  VTT_ML = $60\\cdot \\frac{\\beta_{tt}}{\\beta_{tc}}$."
   ]
  },
  {
   "cell_type": "markdown",
   "metadata": {},
   "source": [
    "#### `Answers`"
   ]
  },
  {
   "cell_type": "code",
   "execution_count": 13,
   "metadata": {},
   "outputs": [
    {
     "name": "stderr",
     "output_type": "stream",
     "text": [
      "Biogeme parameters read from biogeme.toml. \n",
      "As the model is rather complex, we cancel the calculation of second derivatives. If you want to control the parameters, change the name of the algorithm in the TOML file from \"automatic\" to \"simple_bounds\" \n",
      "The number of draws (100) is low. The results may not be meaningful. \n",
      "As the model is rather complex, we cancel the calculation of second derivatives. If you want to control the parameters, change the name of the algorithm in the TOML file from \"automatic\" to \"simple_bounds\" \n",
      "Optimization algorithm: hybrid Newton/BFGS with simple bounds [simple_bounds] \n",
      "** Optimization: BFGS with trust region for simple bounds \n",
      "Iter.            b_tc            b_tt        sigma_tt     Function    Relgrad   Radius      Rho      \n",
      "    0            -0.1            -0.1               1      7.5e+03       0.35      0.5      -36    - \n",
      "    1            -0.1            -0.1               1      7.5e+03       0.35     0.25    -0.59    - \n",
      "    2           -0.35            0.15            0.75      6.7e+03       0.14     0.25     0.68    + \n",
      "    3            -0.6           0.067             0.5      6.4e+03       0.57     0.25     0.56    + \n",
      "    4           -0.72           -0.18             0.5      5.9e+03       0.17     0.25     0.83    + \n",
      "    5           -0.72           -0.18             0.5      5.9e+03       0.17     0.12    -0.95    - \n",
      "    6           -0.82            -0.2            0.38      5.8e+03       0.25     0.12     0.74    + \n",
      "    7           -0.82            -0.2            0.38      5.8e+03       0.25    0.062    -0.61    - \n",
      "    8           -0.82            -0.2            0.38      5.8e+03       0.25    0.031     -0.4    - \n",
      "    9           -0.79           -0.23            0.41      5.8e+03      0.099    0.031     0.37    + \n",
      "   10            -0.8           -0.24            0.38      5.7e+03      0.014     0.31     0.97   ++ \n",
      "   11            -0.8           -0.24            0.38      5.7e+03      0.014     0.16 -2.3e+02    - \n",
      "   12            -0.8           -0.24            0.38      5.7e+03      0.014    0.078      -40    - \n",
      "   13            -0.8           -0.24            0.38      5.7e+03      0.014    0.039      -13    - \n",
      "   14            -0.8           -0.24            0.38      5.7e+03      0.014     0.02     -5.6    - \n",
      "   15            -0.8           -0.24            0.38      5.7e+03      0.014   0.0098     -1.4    - \n",
      "   16            -0.8           -0.24            0.38      5.7e+03      0.014   0.0049    0.038    - \n",
      "   17           -0.81           -0.24            0.37      5.7e+03     0.0025   0.0049     0.58    + \n",
      "   18            -0.8           -0.24            0.37      5.7e+03     0.0052   0.0049     0.68    + \n",
      "   19            -0.8           -0.24            0.37      5.7e+03     0.0052   0.0024    0.026    - \n",
      "   20            -0.8           -0.24            0.37      5.7e+03     0.0024    0.024     0.94   ++ \n",
      "   21            -0.8           -0.24            0.37      5.7e+03     0.0024    0.012     -5.6    - \n",
      "   22            -0.8           -0.24            0.37      5.7e+03     0.0024   0.0061      -14    - \n",
      "   23            -0.8           -0.24            0.37      5.7e+03     0.0024   0.0031     -9.4    - \n",
      "   24            -0.8           -0.24            0.37      5.7e+03     0.0024   0.0015     -6.5    - \n",
      "   25            -0.8           -0.24            0.37      5.7e+03     0.0024  0.00076     -2.5    - \n",
      "   26            -0.8           -0.24            0.37      5.7e+03     0.0024  0.00038   -0.026    - \n",
      "   27            -0.8           -0.24            0.37      5.7e+03     0.0013  0.00038     0.63    + \n",
      "   28            -0.8           -0.24            0.37      5.7e+03     0.0024   0.0038     0.96   ++ \n",
      "   29           -0.79           -0.24            0.37      5.7e+03     0.0024    0.038        1   ++ \n",
      "   30           -0.76           -0.23            0.34      5.7e+03     0.0089    0.038     0.82    + \n",
      "   31           -0.72           -0.22            0.33      5.7e+03     0.0029     0.38     0.99   ++ \n",
      "   32           -0.72           -0.22            0.33      5.7e+03     0.0029     0.19    -0.14    - \n",
      "   33           -0.53           -0.16            0.23      5.7e+03     0.0098     0.19     0.85    + \n",
      "   34           -0.53           -0.16            0.23      5.7e+03     0.0098    0.095     -4.2    - \n",
      "   35           -0.53           -0.16            0.23      5.7e+03     0.0098    0.048    -0.43    - \n",
      "   36           -0.53           -0.16            0.23      5.7e+03     0.0098    0.024    0.073    - \n",
      "   37           -0.53           -0.16            0.23      5.7e+03     0.0098    0.012    0.036    - \n",
      "   38           -0.53           -0.16            0.23      5.7e+03     0.0098    0.006    -0.21    - \n",
      "   39           -0.53           -0.16            0.23      5.7e+03     0.0098    0.003    -0.53    - \n",
      "   40           -0.53           -0.16            0.23      5.7e+03     0.0098   0.0015     -1.1    - \n",
      "   41           -0.53           -0.16            0.23      5.7e+03     0.0098  0.00075    -0.35    - \n",
      "   42           -0.53           -0.16            0.23      5.7e+03     0.0098  0.00037    -0.13    - \n",
      "   43           -0.53           -0.16            0.23      5.7e+03     0.0031  0.00037     0.53    + \n",
      "   44           -0.53           -0.16            0.23      5.7e+03     0.0012  0.00037     0.71    + \n",
      "   45           -0.53           -0.16            0.23      5.7e+03     0.0015   0.0037     0.95   ++ \n",
      "   46           -0.52           -0.16            0.23      5.7e+03     0.0027    0.037     0.97   ++ \n",
      "   47           -0.49           -0.15            0.21      5.7e+03     0.0024    0.037     0.77    + \n",
      "   48           -0.46           -0.14             0.2      5.7e+03     0.0011    0.037     0.53    + \n",
      "   49           -0.47           -0.14             0.2      5.7e+03    0.00013    0.037     0.86    + \n",
      "   50           -0.47           -0.14             0.2      5.7e+03    3.2e-05    0.037        1    + \n"
     ]
    },
    {
     "name": "stdout",
     "output_type": "stream",
     "text": [
      "Number of estimated parameters:\t3\n",
      "Sample size:\t10926\n",
      "Excluded observations:\t0\n",
      "Init log likelihood:\t-7539.439\n",
      "Final log likelihood:\t-5743.571\n",
      "Likelihood ratio test for the init. model:\t3591.737\n",
      "Rho-square for the init. model:\t0.238\n",
      "Rho-square-bar for the init. model:\t0.238\n",
      "Akaike Information Criterion:\t11493.14\n",
      "Bayesian Information Criterion:\t11515.04\n",
      "Final gradient norm:\t2.6548E-01\n",
      "Number of draws:\t100\n",
      "Draws generation time:\t0:00:00.684760\n",
      "Types of draws:\t['B_tc_rnd: NORMAL_HALTON2', 'B_tt_rnd: NORMAL_HALTON2']\n",
      "Nbr of threads:\t11\n",
      "\n",
      "             Value  Rob. Std err  Rob. t-test  Rob. p-value\n",
      "b_tc     -0.466620      0.112904    -4.132877      0.000036\n",
      "b_tt     -0.142610      0.033755    -4.224823      0.000024\n",
      "sigma_tt  0.200312      0.061519     3.256082      0.001130\n"
     ]
    }
   ],
   "source": [
    "# A. \n",
    "# Define the model parameters\n",
    "B_tt = Beta('b_tt', -0.1, None, None, 0)\n",
    "B_tc = Beta('b_tc', -0.1, None, None, 0)    \n",
    "sigma_tt = Beta('sigma_tt', 1, None, None, 0)\n",
    "\n",
    "# Construct the random taste parameter for beta_tt\n",
    "B_tt_rnd = B_tt + sigma_tt * bioDraws('B_tt_rnd', 'NORMAL_HALTON2')\n",
    "\n",
    "\n",
    "# Definition of the utility functions \n",
    "V_L = B_tt_rnd * TimeL + B_tc * CostL\n",
    "V_R = B_tt_rnd * TimeR + B_tc * CostR   \n",
    "\n",
    "# Create a dictionary to list the utility functions with the numbering of alternatives\n",
    "V = {1: V_L, 2: V_R}\n",
    "            \n",
    " # Create a dictionary to describe the availability conditions of each alternative\n",
    "av = {1: 1, 2: 1} \n",
    "\n",
    "# Give the model a name\n",
    "model_name = 'ML with normal distributed B_tt only'\n",
    "\n",
    "# The conditional probability of the chosen alternative is a logit\n",
    "condProb = models.logit(V, av ,Chosen)\n",
    "\n",
    "# The unconditional probability is obtained by simulation\n",
    "uncondProb = MonteCarlo(condProb)\n",
    "\n",
    "# The Log-likelihood is the log of the unconditional probability\n",
    "LL = log(uncondProb)\n",
    "\n",
    "# Create the Biogeme estimation object containing the data and the model\n",
    "num_draws = 100\n",
    "biogeme = bio.BIOGEME(biodata , LL,number_of_draws=num_draws)\n",
    "\n",
    "# Set reporting levels\n",
    "biogeme.generate_pickle = False\n",
    "biogeme.generate_html = False\n",
    "biogeme.save_iterations = False\n",
    "biogeme.modelName = model_name\n",
    "\n",
    "# Estimate the model and print the results\n",
    "results = biogeme.estimate()\n",
    "\n",
    "# Print the results in a table\n",
    "# Note that print_general_statistics() gives more information than short_summary(), which we used before\n",
    "print(results.print_general_statistics())\n",
    "\n",
    "# Get the estimated parameters in a pandas table\n",
    "beta_hat = results.get_estimated_parameters()\n",
    "print(beta_hat)"
   ]
  },
  {
   "cell_type": "code",
   "execution_count": 14,
   "metadata": {},
   "outputs": [
    {
     "name": "stdout",
     "output_type": "stream",
     "text": [
      "Value of travel time ML model:  €18.34 per hour\n"
     ]
    }
   ],
   "source": [
    "# B\n",
    "# Compute the mean value of travel time\n",
    "VTT_ML = 60*(beta_hat.loc['b_tt']['Value']/beta_hat.loc['b_tc']['Value'])\n",
    "print(f'Value of travel time ML model:  €{VTT_ML:.2f} per hour')"
   ]
  },
  {
   "cell_type": "markdown",
   "metadata": {},
   "source": [
    "## `4. Willingness-to-Pay space`"
   ]
  },
  {
   "cell_type": "markdown",
   "metadata": {},
   "source": [
    "### `4.1. Theory`<br>"
   ]
  },
  {
   "cell_type": "markdown",
   "metadata": {},
   "source": [
    "People are differently sensitive to cost. But, as discussed under 3.3, we cannot specify $\\beta_{tc}$ as a randomly distributed parameter (or, to be more precise, not as one that uses a distribution which has support over the full domain, like a normal distribution). To circumvent this problem, we can cleverly re-parameterise our model. This reparametrisation involves a transformation from **`utility space`** to **`Willingness-to-Pay (WTP) space`**. This transformation allows us to estimate the VTT (distribution) directly, and simplifies the modelling. It works as follows:<br><br>\n",
    "\n",
    "\n",
    "The utility specification in `utility space` is:\n",
    "\n",
    "$V_1 = \\beta_{tc} \\cdot TC_1 + \\beta_{tt} \\cdot TT_1$<br>\n",
    "$V_2 = \\beta_{tc} \\cdot TC_2 + \\beta_{tt} \\cdot TT_2$<br><br>\n",
    "\n",
    "We factorise $\\beta_{tc}$ in both utility functions. This gives us:\n",
    "\n",
    "$V_1 = \\beta_{tc} \\cdot (TC_1 + (\\frac{\\beta_{tt}}{\\beta_{tc}}) \\cdot TT_1)$<br>\n",
    "$V_2 = \\beta_{tc} \\cdot (TC_2 + (\\frac{\\beta_{tt}}{\\beta_{tc}}) \\cdot TT_2)$<br><br>\n",
    "\n",
    "Noting that $VTT = \\frac{\\beta_{tt}}{\\beta_{tc}}$, we obtain:\n",
    "\n",
    "$V_1 = \\beta_{tc} \\cdot (TC_1 + VTT \\cdot TT_1)$<br>\n",
    "$V_2 = \\beta_{tc} \\cdot (TC_2 + VTT \\cdot TT_2)$<br><br>\n",
    "\n",
    "Hence, with this model, we can directly estimate the VTT (and $\\beta_{tc}$). Therefore, this model is in the `Willingness-to-Pay space`.<br> \n",
    "\n",
    "**Starting values for estimating the VTT in the WTP space**<br>\n",
    "Whenever we estimate a discrete choice model, we need to provide starting values for the optimisation algorithm. For conventional linear-additive RUM-MNL models, the starting values are inconsequential because of its concave log-likelihood function. However, for models estimated in WTP space and more complex models in general, the starting values can have impact. When estimating the VTT in the WTP space, it is good practice to provide reasonable starting values (thus a nonzero, positive VTT).\n",
    "\n",
    "In the WTP space, we can use the following heuristic to determine the starting values for the VTT:<br>\n",
    "Let's first see how this works out for a simple MNL model:"
   ]
  },
  {
   "cell_type": "code",
   "execution_count": 15,
   "metadata": {},
   "outputs": [
    {
     "name": "stderr",
     "output_type": "stream",
     "text": [
      "Biogeme parameters read from biogeme.toml. \n",
      "As the model is not too complex, we activate the calculation of second derivatives. If you want to change it, change the name of the algorithm in the TOML file from \"automatic\" to \"simple_bounds\" \n",
      "As the model is not too complex, we activate the calculation of second derivatives. If you want to change it, change the name of the algorithm in the TOML file from \"automatic\" to \"simple_bounds\" \n",
      "Optimization algorithm: hybrid Newton/BFGS with simple bounds [simple_bounds] \n",
      "** Optimization: Newton with trust region for simple bounds \n",
      "Iter.            B_tc             vtt     Function    Relgrad   Radius      Rho      \n",
      "    0            -0.1            0.17      6.4e+03       0.89      0.5      -12    - \n",
      "    1            -0.1            0.17      6.4e+03       0.89     0.25     -3.9    - \n",
      "    2            -0.1            0.17      6.4e+03       0.89     0.12    -0.17    - \n",
      "    3           -0.11            0.29      6.1e+03       0.23     0.12     0.85    + \n",
      "    4           -0.11            0.31        6e+03      0.013      1.2        1   ++ \n",
      "    5           -0.11            0.31        6e+03     0.0001      1.2        1   ++ \n"
     ]
    },
    {
     "name": "stdout",
     "output_type": "stream",
     "text": [
      "Results for model Benchmark MNL in WTP space\n",
      "Nbr of parameters:\t\t2\n",
      "Sample size:\t\t\t10926\n",
      "Excluded data:\t\t\t0\n",
      "Null log likelihood:\t\t-7573.326\n",
      "Final log likelihood:\t\t-6033.756\n",
      "Likelihood ratio test (null):\t\t3079.141\n",
      "Rho square (null):\t\t\t0.203\n",
      "Rho bar square (null):\t\t\t0.203\n",
      "Akaike Information Criterion:\t12071.51\n",
      "Bayesian Information Criterion:\t12086.11\n",
      "\n",
      "         Value  Rob. Std err  Rob. t-test  Rob. p-value\n",
      "B_tc -0.107431      0.003715   -28.921076           0.0\n",
      "vtt   0.316010      0.006203    50.944495           0.0\n"
     ]
    }
   ],
   "source": [
    "# Give the model a name\n",
    "model_name = 'Benchmark MNL in WTP space'\n",
    "\n",
    "# Define model parameters\n",
    "vtt  = Beta('vtt', 10/60, None, None, 0) # Note thate we use VTT of 10 euros/hr as the starting value\n",
    "B_tc = Beta('B_tc', -0.1, None, None, 0) # Note that we use a reasonable starting value for B_tc (same as in the MNL model)\n",
    "\n",
    "# Definition of the utility functions\n",
    "VL = B_tc * (CostL + vtt * TimeL)\n",
    "VR = B_tc * (CostR + vtt * TimeR)\n",
    "\n",
    "# Associate utility functions with alternatives\n",
    "V = {1: VL, 2: VR}     \n",
    "\n",
    "# Associate the availability conditions with the alternatives\n",
    "av = {1: 1, 2: 1} \n",
    "\n",
    "# Compute probability of the chosen alternative\n",
    "prob = models.logit(V, av, Chosen)\n",
    "\n",
    "# Take the log of the probability\n",
    "logprob = log(prob)\n",
    "\n",
    "# Create the Biogeme estimation object containing the data and the model\n",
    "biogeme = bio.BIOGEME(biodata, logprob)\n",
    "\n",
    "# Set reporting levels\n",
    "biogeme.generate_pickle = False\n",
    "biogeme.generate_html = False\n",
    "biogeme.save_iterations = False\n",
    "biogeme.modelName = model_name\n",
    "\n",
    "# Compute the null loglikelihood for reporting\n",
    "biogeme.calculate_null_loglikelihood(av)\n",
    "\n",
    "# Estimate the parameters and print the results\n",
    "results = biogeme.estimate()\n",
    "print(results.short_summary())\n",
    "\n",
    "# Get the results in a pandas table\n",
    "beta_hat = results.get_estimated_parameters()\n",
    "print(beta_hat)"
   ]
  },
  {
   "cell_type": "code",
   "execution_count": 16,
   "metadata": {},
   "outputs": [
    {
     "name": "stdout",
     "output_type": "stream",
     "text": [
      "Value of travel time MNL model in WTP space:  €18.96 per hour\n"
     ]
    }
   ],
   "source": [
    "# Compute the value of travel time\n",
    "VTT_WTP_MNL = 60 * beta_hat.loc['vtt']['Value']\n",
    "print(f'Value of travel time MNL model in WTP space:  €{VTT_WTP_MNL:.2f} per hour')"
   ]
  },
  {
   "cell_type": "markdown",
   "metadata": {},
   "source": [
    "### `4.2 Reflection`<br>\n",
    "Comparing these results with the benchmark MNL VTT model, we make two observations:\n",
    "* We obtain `EXACTLY` the same VTT\n",
    "* We obtain `EXACTLY` the same model fit \n",
    "* **We immediately obtain the VTT and the associated standard error!** \n"
   ]
  },
  {
   "cell_type": "markdown",
   "metadata": {},
   "source": [
    "### `4.3. ML in Willingness-to-Pay space`"
   ]
  },
  {
   "cell_type": "markdown",
   "metadata": {},
   "source": [
    "`ML with normally distributed taste parameters`<br>\n",
    "Now, let's see how WTP space enables us to directly estimate the VTT distribution in the context of the Mixed Logit model."
   ]
  },
  {
   "cell_type": "code",
   "execution_count": 17,
   "metadata": {},
   "outputs": [],
   "source": [
    "# Give the model a name\n",
    "model_name = 'ML WTP space with normally distributed vtt'\n",
    "\n",
    "# Parameters definition enabling the construction of random parameters\n",
    "vtt = Beta('vtt',    0.1, None, None, 0)\n",
    "B_tc = Beta('b_tc', -0.1, None, None, 0)    \n",
    "sigma_vtt = Beta('sigma_vtt', 1, None, None, 0)\n",
    "\n",
    "# Construction of random parameters   \n",
    "vtt_rnd = vtt + sigma_vtt * bioDraws('vtt_rnd', 'NORMAL_HALTON2')\n",
    "\n",
    "# Definition of the utility functions \n",
    "V_L = B_tc * (CostL + vtt_rnd * TimeL)\n",
    "V_R = B_tc * (CostR + vtt_rnd * TimeR)   \n",
    "\n",
    "# Create a dictionary to list the utility functions with the numbering of alternatives\n",
    "V = {1: V_L, 2: V_R}\n",
    "            \n",
    " # Create a dictionary to describe the availability conditions of each alternative\n",
    "av = {1: 1, 2: 1} "
   ]
  },
  {
   "cell_type": "code",
   "execution_count": 18,
   "metadata": {},
   "outputs": [
    {
     "name": "stderr",
     "output_type": "stream",
     "text": [
      "Biogeme parameters read from biogeme.toml. \n"
     ]
    }
   ],
   "source": [
    "# The conditional probability of the chosen alternative is a logit\n",
    "condProb = models.logit(V, av ,Chosen)\n",
    "\n",
    "# The unconditional probability is obtained by simulation\n",
    "uncondProb = MonteCarlo(condProb)\n",
    "\n",
    "# The Log-likelihood is the log of the unconditional probability\n",
    "LL = log(uncondProb)\n",
    "\n",
    "# Create the Biogeme estimation object containing the data and the model\n",
    "num_draws = 100\n",
    "biogeme = bio.BIOGEME(biodata , LL,number_of_draws=num_draws)\n",
    "\n",
    "# Set reporting levels\n",
    "biogeme.generate_pickle = False\n",
    "biogeme.generate_html = False\n",
    "biogeme.save_iterations = False\n",
    "biogeme.modelName = model_name"
   ]
  },
  {
   "cell_type": "code",
   "execution_count": 19,
   "metadata": {},
   "outputs": [
    {
     "name": "stderr",
     "output_type": "stream",
     "text": [
      "As the model is rather complex, we cancel the calculation of second derivatives. If you want to control the parameters, change the name of the algorithm in the TOML file from \"automatic\" to \"simple_bounds\" \n",
      "The number of draws (100) is low. The results may not be meaningful. \n",
      "As the model is rather complex, we cancel the calculation of second derivatives. If you want to control the parameters, change the name of the algorithm in the TOML file from \"automatic\" to \"simple_bounds\" \n",
      "Optimization algorithm: hybrid Newton/BFGS with simple bounds [simple_bounds] \n",
      "** Optimization: BFGS with trust region for simple bounds \n",
      "Iter.            b_tc       sigma_vtt             vtt     Function    Relgrad   Radius      Rho      \n",
      "    0            -0.1               1             0.1      6.3e+03       0.37      0.5      -44    - \n",
      "    1            -0.1               1             0.1      6.3e+03       0.37     0.25    -0.35    - \n",
      "    2           -0.35            0.75            0.35      6.1e+03        0.2     0.25     0.36    + \n",
      "    3           -0.35            0.75            0.35      6.1e+03        0.2     0.12    -0.13    - \n",
      "    4           -0.47            0.62            0.22      5.9e+03       0.11     0.12     0.64    + \n",
      "    5            -0.6             0.5            0.27      5.8e+03      0.064     0.12      0.9    + \n",
      "    6            -0.6             0.5            0.27      5.8e+03      0.064    0.062     -2.4    - \n",
      "    7           -0.66            0.44            0.33      5.8e+03       0.11    0.062      0.1    + \n",
      "    8           -0.66            0.44            0.33      5.8e+03       0.11    0.031     -3.1    - \n",
      "    9           -0.65            0.47             0.3      5.8e+03      0.025    0.031     0.77    + \n",
      "   10           -0.65            0.47             0.3      5.8e+03      0.025    0.016    -0.27    - \n",
      "   11           -0.64            0.45             0.3      5.8e+03      0.021    0.016     0.37    + \n",
      "   12           -0.62            0.45            0.31      5.8e+03      0.005     0.16      1.2   ++ \n",
      "   13           -0.46            0.44             0.3      5.7e+03       0.02     0.16     0.56    + \n",
      "   14           -0.46            0.44             0.3      5.7e+03       0.02    0.078     -3.1    - \n",
      "   15           -0.46            0.44             0.3      5.7e+03       0.02    0.039    -0.22    - \n",
      "   16           -0.43            0.42            0.31      5.7e+03      0.027    0.039     0.23    + \n",
      "   17           -0.45            0.42            0.31      5.7e+03     0.0013     0.39     0.94   ++ \n",
      "   18           -0.45            0.42            0.31      5.7e+03     0.0013    0.041     -6.2    - \n",
      "   19           -0.45            0.42            0.31      5.7e+03     0.0013    0.021     -1.1    - \n",
      "   20           -0.45            0.42            0.31      5.7e+03     0.0013     0.01   0.0036    - \n",
      "   21           -0.44            0.43            0.31      5.7e+03     0.0029     0.01     0.34    + \n",
      "   22           -0.43            0.42            0.31      5.7e+03     0.0013     0.01     0.67    + \n",
      "   23           -0.43            0.42            0.31      5.7e+03    7.7e-05     0.01     0.94    + \n"
     ]
    },
    {
     "name": "stdout",
     "output_type": "stream",
     "text": [
      "Number of estimated parameters:\t3\n",
      "Sample size:\t10926\n",
      "Excluded observations:\t0\n",
      "Init log likelihood:\t-6317.555\n",
      "Final log likelihood:\t-5748.894\n",
      "Likelihood ratio test for the init. model:\t1137.323\n",
      "Rho-square for the init. model:\t0.09\n",
      "Rho-square-bar for the init. model:\t0.0895\n",
      "Akaike Information Criterion:\t11503.79\n",
      "Bayesian Information Criterion:\t11525.68\n",
      "Final gradient norm:\t5.7237E-01\n",
      "Number of draws:\t100\n",
      "Draws generation time:\t0:00:00.698092\n",
      "Types of draws:\t['B_tc_rnd: NORMAL_HALTON2', 'B_tt_rnd: NORMAL_HALTON2', 'vtt_rnd: NORMAL_HALTON2']\n",
      "Nbr of threads:\t11\n",
      "\n",
      "              Value  Rob. Std err  Rob. t-test  Rob. p-value\n",
      "b_tc      -0.429096      0.081825    -5.244082  1.570625e-07\n",
      "sigma_vtt  0.421579      0.029909    14.095533  0.000000e+00\n",
      "vtt        0.306419      0.006510    47.072410  0.000000e+00\n"
     ]
    }
   ],
   "source": [
    "# Estimate the model and print the results\n",
    "results = biogeme.estimate()\n",
    "\n",
    "# Print the results in a table\n",
    "# Note that print_general_statistics() gives more information than short_summary(), which we used before\n",
    "print(results.print_general_statistics())\n",
    "\n",
    "# Get the estimated parameters in a pandas table\n",
    "beta_hat = results.get_estimated_parameters()\n",
    "print(beta_hat)"
   ]
  },
  {
   "cell_type": "code",
   "execution_count": 20,
   "metadata": {},
   "outputs": [
    {
     "name": "stdout",
     "output_type": "stream",
     "text": [
      "Value of travel time ML model in WTP space:  €18.39 per hour\n"
     ]
    }
   ],
   "source": [
    "# Compute the value of travel time\n",
    "VTT_WTP_ML = 60*beta_hat.loc['vtt']['Value']\n",
    "print(f'Value of travel time ML model in WTP space:  €{VTT_WTP_ML:.2f} per hour')"
   ]
  },
  {
   "cell_type": "markdown",
   "metadata": {},
   "source": [
    "`Visualisation of the estimated VTT distribution`<br>\n",
    "Visualisation of the estimated distribution helps to get a feeling for the shape of the distribution that we aim to recover. To do so, we use the estimated values for the mean (vtt) and standard deviation (sigma_vtt). <br>\n",
    "Note that the visualisation distinguishes between values in the positive and negative domains."
   ]
  },
  {
   "cell_type": "code",
   "execution_count": 21,
   "metadata": {},
   "outputs": [
    {
     "data": {
      "image/png": "[encoded data removed]",
      "text/plain": [
       "<Figure size 640x480 with 1 Axes>"
      ]
     },
     "metadata": {},
     "output_type": "display_data"
    }
   ],
   "source": [
    "# Plot the estimated normal distribution\n",
    "\n",
    "# Get the mean and standard deviation from the beta_hat table\n",
    "mean_normal = beta_hat.loc['vtt']['Value']\n",
    "std_dev_normal = beta_hat.loc['sigma_vtt']['Value']\n",
    "\n",
    "# Create a vector of 100 points between +/- 4 standard deviations from the mean\n",
    "x= np.linspace(mean_normal - 4*std_dev_normal, mean_normal + 4*std_dev_normal, 100)\n",
    "\n",
    "# Plot the normal distribution in the positive domain. \n",
    "# Note that the x-axis is rescaled by 60 to convert from minutes to hours\n",
    "# The scipy function \"norm.pdf(x,mean, std_dev)\" computes the probability density function of the normal distribution\n",
    "plt.plot(x[x>0]*60, norm.pdf(x[x>0], mean_normal, std_dev_normal))\n",
    "\n",
    "# Plot the normal distribution in the negative domain. \n",
    "plt.plot(x[x<0]*60, norm.pdf(x[x<0], mean_normal, std_dev_normal), color='red',linestyle='dashed')\n",
    "\n",
    "# Add a vertical line to highlight the zero\n",
    "plt.plot([0,0], [0,np.max(norm.pdf(x[x>0], mean_normal, std_dev_normal))], color='black',linestyle='dashed')\n",
    "\n",
    "# Add labels and title\n",
    "plt.xlabel('VTT [euro/hour]')\n",
    "plt.ylabel('Probability Density')\n",
    "plt.ylim([0,1])\n",
    "plt.title(f'Distribution of the VTT')\n",
    "plt.show()"
   ]
  },
  {
   "cell_type": "markdown",
   "metadata": {},
   "source": [
    "### `4.4 Reflection`<br>\n",
    "* Using a Mixed Logit model in the Willingness-to-Pay space, we are able to estimate the distribution of the VTT **directly** . Hence, this model allows jointly for unobserved heterogeneity in cost and time without running into problems caused by dividing by zero.  \n",
    "* But, we see that a substantial part of the VTT distribution lies in the negative domain. This is behaviourally counterintuitive. In general, people prefer to arrive quicker at their destination rather than later. This is due to the assumption that the VTT is normally distributed. Perhaps this assumption needs revisiting...\n"
   ]
  },
  {
   "cell_type": "markdown",
   "metadata": {},
   "source": [
    "## `Exercise 2: Mixed Logit with log-normally distributed VTT`"
   ]
  },
  {
   "cell_type": "markdown",
   "metadata": {},
   "source": [
    "Now, **you** will try the assumption that the VTT distribution in the population is **`log-normally distributed`** (as opposed to normally distributed).<br>\n",
    "\n",
    "To do that, you must create a random vtt parameter with a log-normal VTT distribution. Draws from the log-normal distribution can be obtained from draws from the normal distribution as follows: <br>\n",
    "\n",
    "            vtt_rnd = exp(mu + sigma  * bioDraws('vtt_rnd', 'NORMAL_HALTON2'))\n",
    "            \n",
    "\n",
    "Estimate this model and interpret its results.<br>\n",
    "\n",
    "\n",
    "\n",
    "`A` Compare the log-likelihood of the ML model with normal distribution and with log-normal distribution. Which model fits better?<br>\n",
    "\n",
    "`B` What can you conclude from the `vtt` and `sigma` parameters?<br>\n",
    "\n",
    "`C` Compute the mean of the estimated log-normal distribution, i.e. `mean_lognormal` (based on your estimated `mu` and `sigma`). <br>\n",
    "\n",
    "**Hint**, take a look at [https://en.wikipedia.org/wiki/Log-normal_distribution](https://en.wikipedia.org/wiki/Log-normal_distribution) to see how this is done. Look for the formula for the mean in the right-hand side panel on the web page.\n",
    "\n",
    "`D` Plot the shape of the log-normal distribution for the estimated `mu` and `sigma`. <br>\n",
    "\n",
    " **Hint**, you can use the  scipy function \"lognorm\". But lognorm is differently parameterised. That is, instead of using a location parameter `mu`, it requires a `scale` parameter. The scale is simply the exponent of the location parameter mu (i.e. scale = exp(mu)). <br>\n",
    "    \n",
    "Alternatively, you compute it directly from the formula yourself using the location `mu` and standard deviation $\\sigma$:<br>\n",
    "    ${\\frac {1}{x\\sigma {\\sqrt {2\\pi }}}}\\ \\exp \\left(-{\\frac {\\left(\\ln x-\\mu \\right)^{2}}{2\\sigma ^{2}}}\\right)$"
   ]
  },
  {
   "cell_type": "markdown",
   "metadata": {},
   "source": [
    "#### `Answers`"
   ]
  },
  {
   "cell_type": "code",
   "execution_count": 22,
   "metadata": {},
   "outputs": [],
   "source": [
    "# Give the model a name\n",
    "model_name = 'ML WTP space with log-normally distributed VTT'\n",
    "\n",
    "# Parameters definition enabling the construction of random parameters\n",
    "mu   = Beta('mu',     -1, None, None, 0)\n",
    "B_tc = Beta('b_tc', -1, None, None, 0)    \n",
    "sigma  = Beta('sigma', 1, None, None, 0)\n",
    "\n",
    "# Construction of random parameters   \n",
    "vtt_rnd = exp(mu + sigma * bioDraws('vtt_rnd', 'NORMAL_HALTON2'))\n",
    "\n",
    "# Definition of the utility functions \n",
    "V_L = B_tc * (CostL + vtt_rnd * TimeL)\n",
    "V_R = B_tc * (CostR + vtt_rnd * TimeR)   \n",
    "\n",
    "# Create a dictionary to list the utility functions with the numbering of alternatives\n",
    "V = {1: V_L, 2: V_R}\n",
    "            \n",
    " # Create a dictionary to describe the availability conditions of each alternative\n",
    "av = {1: 1, 2: 1} "
   ]
  },
  {
   "cell_type": "code",
   "execution_count": 23,
   "metadata": {},
   "outputs": [
    {
     "name": "stderr",
     "output_type": "stream",
     "text": [
      "Biogeme parameters read from biogeme.toml. \n",
      "As the model is rather complex, we cancel the calculation of second derivatives. If you want to control the parameters, change the name of the algorithm in the TOML file from \"automatic\" to \"simple_bounds\" \n",
      "The number of draws (100) is low. The results may not be meaningful. \n",
      "As the model is rather complex, we cancel the calculation of second derivatives. If you want to control the parameters, change the name of the algorithm in the TOML file from \"automatic\" to \"simple_bounds\" \n",
      "Optimization algorithm: hybrid Newton/BFGS with simple bounds [simple_bounds] \n",
      "** Optimization: BFGS with trust region for simple bounds \n",
      "Iter.            b_tc              mu           sigma     Function    Relgrad   Radius      Rho      \n",
      "    0              -1              -1               1        6e+03       0.34      0.5     -0.7    - \n",
      "    1            -0.5            -1.5             1.5      5.7e+03      0.094      0.5     0.28    + \n",
      "    2            -0.5            -1.5             1.5      5.7e+03      0.094     0.25    -0.58    - \n",
      "    3           -0.75            -1.8             1.2      5.7e+03        0.2     0.25     0.11    + \n",
      "    4           -0.77            -1.5             1.3      5.6e+03      0.056     0.25     0.68    + \n",
      "    5           -0.82            -1.4             1.1      5.6e+03      0.019     0.25     0.56    + \n",
      "    6           -0.82            -1.4             1.1      5.6e+03      0.019     0.12     -6.4    - \n",
      "    7           -0.82            -1.4             1.1      5.6e+03      0.019    0.062     -1.4    - \n",
      "    8           -0.82            -1.4             1.1      5.6e+03      0.024    0.062     0.36    + \n",
      "    9           -0.82            -1.4             1.1      5.6e+03      0.024    0.031    -0.22    - \n",
      "   10           -0.82            -1.5             1.1      5.6e+03      0.011    0.031     0.53    + \n",
      "   11           -0.85            -1.5             1.1      5.6e+03     0.0012    0.031     0.86    + \n",
      "   12           -0.88            -1.5             1.1      5.6e+03      0.013     0.31      2.2   ++ \n",
      "   13           -0.88            -1.5             1.1      5.6e+03      0.013     0.16     -3.1    - \n",
      "   14           -0.88            -1.5             1.1      5.6e+03      0.013    0.078     -5.7    - \n",
      "   15           -0.88            -1.5             1.1      5.6e+03      0.013    0.039     -5.3    - \n",
      "   16           -0.88            -1.5             1.1      5.6e+03      0.013     0.02    -0.84    - \n",
      "   17           -0.86            -1.4             1.1      5.6e+03      0.014     0.02     0.37    + \n",
      "   18           -0.86            -1.5             1.1      5.6e+03     0.0027     0.02      0.7    + \n",
      "   19           -0.86            -1.5             1.1      5.6e+03     0.0027   0.0098    -0.86    - \n",
      "   20           -0.87            -1.5             1.1      5.6e+03     0.0023   0.0098     0.15    + \n",
      "   21           -0.88            -1.5             1.1      5.6e+03     0.0011   0.0098     0.75    + \n",
      "   22           -0.88            -1.5             1.1      5.6e+03     0.0011   0.0049    -0.27    - \n",
      "   23           -0.88            -1.5             1.1      5.6e+03     0.0011   0.0024    -0.15    - \n",
      "   24           -0.88            -1.5             1.1      5.6e+03    0.00042   0.0024     0.77    + \n",
      "   25           -0.88            -1.5             1.1      5.6e+03    0.00042    0.024     0.93   ++ \n",
      "   26           -0.91            -1.5             1.1      5.6e+03     0.0019    0.024     0.45    + \n",
      "   27           -0.91            -1.5             1.1      5.6e+03     0.0019    0.012    0.019    - \n",
      "   28           -0.92            -1.5             1.1      5.6e+03     0.0023    0.012     0.25    + \n",
      "   29           -0.93            -1.5             1.1      5.6e+03    0.00022    0.012     0.84    + \n",
      "   30           -0.93            -1.5             1.1      5.6e+03    0.00013    0.012     0.76    + \n",
      "   31           -0.93            -1.5             1.1      5.6e+03    2.9e-05    0.012     0.75    + \n"
     ]
    },
    {
     "name": "stdout",
     "output_type": "stream",
     "text": [
      "Number of estimated parameters:\t3\n",
      "Sample size:\t10926\n",
      "Excluded observations:\t0\n",
      "Init log likelihood:\t-6000.85\n",
      "Final log likelihood:\t-5570.737\n",
      "Likelihood ratio test for the init. model:\t860.2251\n",
      "Rho-square for the init. model:\t0.0717\n",
      "Rho-square-bar for the init. model:\t0.0712\n",
      "Akaike Information Criterion:\t11147.47\n",
      "Bayesian Information Criterion:\t11169.37\n",
      "Final gradient norm:\t1.8641E-01\n",
      "Number of draws:\t100\n",
      "Draws generation time:\t0:00:00.695217\n",
      "Types of draws:\t['B_tc_rnd: NORMAL_HALTON2', 'B_tt_rnd: NORMAL_HALTON2', 'vtt_rnd: NORMAL_HALTON2']\n",
      "Nbr of threads:\t11\n",
      "\n",
      "          Value  Rob. Std err  Rob. t-test  Rob. p-value\n",
      "b_tc  -0.930133      0.165560    -5.618099  1.930693e-08\n",
      "mu    -1.463983      0.020639   -70.933025  0.000000e+00\n",
      "sigma  1.126130      0.029088    38.715121  0.000000e+00\n"
     ]
    }
   ],
   "source": [
    "# The conditional probability of the chosen alternative is a logit\n",
    "condProb = models.logit(V, av ,Chosen)\n",
    "\n",
    "# The unconditional probability is obtained by simulation\n",
    "uncondProb = MonteCarlo(condProb)\n",
    "\n",
    "# The Log-likelihood is the log of the unconditional probability\n",
    "LL = log(uncondProb)\n",
    "\n",
    "# Create the Biogeme estimation object containing the data and the model\n",
    "num_draws = 100\n",
    "biogeme = bio.BIOGEME(biodata , LL,number_of_draws=num_draws)\n",
    "\n",
    "# Set reporting levels\n",
    "biogeme.generate_pickle = False\n",
    "biogeme.generate_html = False\n",
    "biogeme.save_iterations = False\n",
    "biogeme.modelName = model_name\n",
    "\n",
    "# Estimate the parameters\n",
    "results = biogeme.estimate()\n",
    "print(results.print_general_statistics())\n",
    "\n",
    "# Get the results in a pandas table\n",
    "beta_hat = results.get_estimated_parameters()\n",
    "print(beta_hat)"
   ]
  },
  {
   "cell_type": "markdown",
   "metadata": {},
   "source": [
    "`A` Compare the log-likelihood of the ML model with normal distribution and with log-normal distribution. Which model fits better?<br>\n",
    "\n",
    "        --> The log-normal distribution fits better, as it has a higher log-likelihood (-5570.737 vs -5739.896)\n",
    "\n",
    "`B` What can you conclude from the `vtt` and `sigma` parameters?<br>\n",
    "\n",
    "        --> The parameters are significant, and negative. But furthermore hard to interpret\n",
    "\n",
    "`C` Compute the mean of the estimated log-normal distribution, i.e. `mean_lognormal` (based on your estimated `mu` and `sigma`) <br>\n",
    "\n",
    "        --> The mean of the log-normal VTT distribution is €25.99 per hour"
   ]
  },
  {
   "cell_type": "code",
   "execution_count": 24,
   "metadata": {},
   "outputs": [
    {
     "name": "stdout",
     "output_type": "stream",
     "text": [
      "The mean of the log-normal VTT distribution is: €26.17 per hour\n"
     ]
    }
   ],
   "source": [
    "mu = beta_hat.loc['mu']['Value']\n",
    "sigma = beta_hat.loc['sigma']['Value']\n",
    "mean_lognormal = np.exp(mu + np.square(sigma)/2) * 60\n",
    "print(f'The mean of the log-normal VTT distribution is: €{mean_lognormal:.2f} per hour')"
   ]
  },
  {
   "cell_type": "markdown",
   "metadata": {},
   "source": [
    "4. Plot the shape of the log-normal distribution using the estimated mu and sigma"
   ]
  },
  {
   "cell_type": "code",
   "execution_count": 25,
   "metadata": {},
   "outputs": [
    {
     "data": {
      "image/png": "[encoded data removed]",
      "text/plain": [
       "<Figure size 640x480 with 1 Axes>"
      ]
     },
     "metadata": {},
     "output_type": "display_data"
    }
   ],
   "source": [
    "# Plot the estimated log-normal distribution\n",
    "x = np.linspace(0.0001, 100/60, 100)\n",
    "\n",
    "# Compute the pdf of the log-normal distribution, based on mu and sigma_sq\n",
    "pdf_lognorm1 = (1/(x*sigma*np.sqrt(2*np.pi)))*np.exp(-np.square(np.log(x)-mu)/(2*np.square(sigma)))\n",
    "pdf_lognorm2 = lognorm.pdf(x, s = sigma, scale= np.exp(mu))\n",
    "\n",
    "# Plot the log-normal distribution. Note that x is rescaled by 60 to convert from minutes to hours\n",
    "plt.plot(x*60, pdf_lognorm1)\n",
    "plt.plot(x*60, pdf_lognorm2, color='red',linestyle='dashed')\n",
    "\n",
    "# Add labels and title\n",
    "plt.xlabel('VTT [euro/hour]')\n",
    "plt.ylabel('Probability Density')\n",
    "# plt.ylim([0,3])\n",
    "plt.title(f'Distribution of the VTT')\n",
    "plt.show()"
   ]
  },
  {
   "cell_type": "markdown",
   "metadata": {},
   "source": [
    "## END"
   ]
  }
 ],
 "metadata": {
  "kernelspec": {
   "display_name": "new_SEN",
   "language": "python",
   "name": "python3"
  },
  "language_info": {
   "codemirror_mode": {
    "name": "ipython",
    "version": 3
   },
   "file_extension": ".py",
   "mimetype": "text/x-python",
   "name": "python",
   "nbconvert_exporter": "python",
   "pygments_lexer": "ipython3",
   "version": "3.11.9"
  },
  "orig_nbformat": 4
 },
 "nbformat": 4,
 "nbformat_minor": 2
}
