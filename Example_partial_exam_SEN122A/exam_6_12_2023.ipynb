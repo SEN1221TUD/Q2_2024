{
 "cells": [
  {
   "cell_type": "markdown",
   "metadata": {},
   "source": [
    "## Partial Exam SEN1221 Part 1. December 6 15:45-17:45\n",
    "\n",
    "\n",
    "A electronics company considers to enter the smartphone market. To better understand the importance of attributes, such as Cost, Size, Memory storage, Camera quality and Operating System (OS) it has hired a high-end consultant to figure out how important these attributes are to consumers of different age groups and genders.  Therefore, the consultant has conducted a Stated Choice experiment, in which participants faced 16 hypothetical choice tasks. The screenshot below shows one of the choice tasks. Besides the choice tasks, participants were asked about their age and gender. The data collection has just finished. In total 125, participants have completed the experiment.<br>\n",
    "\n",
    "<br>\n",
    "\n",
    "![screenshot](screenshot.png)\n",
    "<br>\n",
    "\n",
    "`Coding scheme`<br>\n",
    "The following coding scheme is used:<br> \n",
    "OS {0: Android, 1: iOS}<br>\n",
    "Camera quality {1: mediocre, 2: Good, 3: Very Good, 4: Excellent}<br>\n",
    "Age {1: Young, 2: Middle age, 3: Old}<br>\n",
    "Gender {0: Male, 1: Female}<br>\n",
    "\n",
    "\n",
    "`You are tasked to conduct a first analysis of the data.`"
   ]
  },
  {
   "cell_type": "markdown",
   "metadata": {},
   "source": [
    "### Run this cell to create your environment locally"
   ]
  },
  {
   "cell_type": "code",
   "execution_count": 8,
   "metadata": {},
   "outputs": [],
   "source": [
    "# pip install ....."
   ]
  },
  {
   "cell_type": "code",
   "execution_count": 9,
   "metadata": {},
   "outputs": [],
   "source": [
    "# Import the libraries\n",
    "# Do not change this code\n",
    "import pandas as pd\n",
    "import numpy as np\n",
    "import matplotlib.pyplot as plt\n",
    "import biogeme.biogeme as bio\n",
    "import biogeme.database as db\n",
    "from biogeme import models\n",
    "import biogeme.logging as blog\n",
    "from biogeme.expressions import (Beta, log, exp, bioDraws, bioMultSum,MonteCarlo, Variable)\n",
    "import toml\n",
    "pd.set_option('display.max_columns', 500)"
   ]
  },
  {
   "cell_type": "code",
   "execution_count": 10,
   "metadata": {},
   "outputs": [],
   "source": [
    "# Set the number of draws in the .toml file to 150\n",
    "# Do not change this code\n",
    "with open('biogeme.toml', 'r') as file:\n",
    "    tomldata = toml.load(file)\n",
    "\n",
    "# Modify the number of draws\n",
    "tomldata['MonteCarlo']['number_of_draws'] = 150\n",
    "\n",
    "# Write the modified data back to the .toml file\n",
    "with open('biogeme.toml', 'w') as file:\n",
    "    toml.dump(tomldata, file)\n",
    "\n",
    "# Create a logger to monitor the estimation progress\n",
    "# if logger does not exist create it, else use it\n",
    "try:\n",
    "    logger\n",
    "except NameError:    \n",
    "    logger = blog.get_screen_logger(level=blog.INFO)"
   ]
  },
  {
   "cell_type": "code",
   "execution_count": 20,
   "metadata": {},
   "outputs": [],
   "source": [
    "# Load the data in a long format\n",
    "data  = pd.read_csv('data_partial_exam_long.csv', sep='\\t' )"
   ]
  },
  {
   "cell_type": "markdown",
   "metadata": {},
   "source": [
    "`1` Is this a labelled or unlabelled experiment?<br>\n",
    "A. Labelled<br>\n",
    "B. Unlabelled<br>"
   ]
  },
  {
   "cell_type": "markdown",
   "metadata": {},
   "source": [
    "`2` How is age distributed in the sample?<br>\n",
    "A. Approximately uniformly distributed<br>\n",
    "B. Approximately normally distributed <br>\n",
    "C. Young and old people are the most prevalent groups<br>\n",
    "D. None of the above<br>"
   ]
  },
  {
   "cell_type": "markdown",
   "metadata": {},
   "source": [
    "`3` Are all 3 alternatives available to all decision makers in all observations?<br>\n",
    "A. Yes<br>\n",
    "B. No<br> "
   ]
  },
  {
   "cell_type": "markdown",
   "metadata": {},
   "source": [
    "#### `Estimate a linear-additive RUM-MNL model [Model 1]`<br>\n",
    "* Assume utility is linear and additive for the 5 attributes (hence, treat camera quality as a interval variable)\n",
    "* Do not include the covariates (i.e AGE or GENDER) in your model"
   ]
  },
  {
   "cell_type": "markdown",
   "metadata": {},
   "source": [
    "`4` What is the final log-likelihood of this model?<br>\n",
    "A.  -2197.23<br>\n",
    "B   -974.54<br>\n",
    "C.  -975.25<br>\n",
    "D.  -1112.00<br>\n",
    "E.  -972.01<br>\n",
    "F. None of the above"
   ]
  },
  {
   "cell_type": "markdown",
   "metadata": {},
   "source": [
    "`5` What is the correct interpretation of the rho sq of this model?<br>\n",
    "A. The rho square tells us that the data makes the model more likely than throwing a dice<br>\n",
    "B. The rho square tells us that this model is too simple to adequately explain the choice behaviour in the data<br>\n",
    "C. The rho square tells us how likely the data are<br>\n",
    "D. None of the above <br>"
   ]
  },
  {
   "cell_type": "markdown",
   "metadata": {},
   "source": [
    "`6` The standard error associated with the betas for the OS and SIZE are larger than 0.05. This tells us that:<br>\n",
    "A. The OS and SIZE are not significant factors explaining cell phone choices in the population<br>\n",
    "B. There is substantial heterogeneity between people in their taste for the OS and SIZE<br>\n",
    "C. On average, people like Apple iOS more than Android OS and like larger phones better than smaller phones<br>\n",
    "D. None of the above <br>"
   ]
  },
  {
   "cell_type": "markdown",
   "metadata": {},
   "source": [
    "#### `Estimate a new MNL model in which you interact the OS with the three age groups [Model 2].` \n",
    "* Use this model to infer whether there is a difference between age groups YOUNG, MIDDLE, and OLD regarding their tastes for the OS.\n",
    "* Assume utility is linear and additive for all 5 attributes (hence, treat camera quality as a interval variable)\n",
    "* Do not include any other covariates in the model than AGE"
   ]
  },
  {
   "cell_type": "markdown",
   "metadata": {},
   "source": [
    "`7` What is the final log-likelihood of the model<br>\n",
    "A.  -974.55<br>\n",
    "B   -1134.00<br>\n",
    "C.  -950.95<br>\n",
    "D.  -921.19 <br>\n",
    "E. None of the above"
   ]
  },
  {
   "cell_type": "markdown",
   "metadata": {},
   "source": [
    "`8` Is the model with interactions statistically better than the model without interactions?<br>\n",
    "The Chi square table is supplied [here](ChiSquareDistribution.pdf)<br>\n",
    "\n",
    "A. No<br>\n",
    "B. Yes, at 10% critical level of significance<br>\n",
    "C. Yes, at 5% critical level of significance <br>\n",
    "D. Yes, at 1% critical level of significance <br>"
   ]
  },
  {
   "cell_type": "markdown",
   "metadata": {},
   "source": [
    "`9` Is there a difference in taste for the OS across the three age groups (Young, Middle, Old)?<br>\n",
    "A. Yes, the estimated betas for the OS are (significantly) different across age groups <br>\n",
    "B. No, the estimated betas for the OS are (almost) similar across all of the age groups <br>\n",
    "C. It is not possible to tell whether the estimated betas are different from each other across groups<br>"
   ]
  },
  {
   "cell_type": "markdown",
   "metadata": {},
   "source": [
    "#### `Estimate a linear-additive PANEL Mixed Logit model [Model 3].`\n",
    "* Assume utility is linear and additive for all 5 attributes (hence, treat camera quality as a interval variable)\n",
    "* Assume tastes for OS are normally distributed in the population: $\\beta_{os}^{rnd}$ ~ $N(\\beta_{os},\\sigma_{os})$.<br>\n",
    "* For your convenience, we already prepared the data in a wide format (`data_partial_exam_wide.csv`)<br>\n",
    "* Note that the data set contains `16` choice observations per individual."
   ]
  },
  {
   "cell_type": "code",
   "execution_count": 18,
   "metadata": {},
   "outputs": [],
   "source": [
    "# Uncomment the lines below to load the data in a wide format\n",
    "# df_wide = pd.read_csv('data_partial_exam_wide.csv',sep='\\t')\n",
    "# biodata_wide = db.Database('data_wide', df_wide)\n",
    "# biodata_wide.data"
   ]
  },
  {
   "cell_type": "markdown",
   "metadata": {},
   "source": [
    "`10` What is the final log-likelihood of the Panel ML model?<br>\n",
    "Note that in the answers \"+/-\" means plus or minus 1 LL point<br>\n",
    "A.   -967 +/- 1 <br>\n",
    "B   -2459 +/- 1<br>\n",
    "C.   -970 +/- 1<br>\n",
    "D.   -819 +/- 1<br>\n",
    "E. None of the above"
   ]
  },
  {
   "cell_type": "markdown",
   "metadata": {},
   "source": [
    "`11` Based on the results of the Panel ML model, what can you say about heterogeneity in tastes for the OS?<br>\n",
    "A. The fact that $\\beta_{os}$ is not significant tells us that people in the population don't care about the OS <br>\n",
    "B  The fact that $\\beta_{os}$ is not significant while $\\sigma_{os}$ is significant tells us that only some people care about the OS <br>\n",
    "C. The fact that $\\beta_{os}$ is not significant while $\\sigma_{os}$ is significant tells us that some people prefer iOS while others prefer Android<br>\n",
    "D. The fact that $\\beta_{os}$ is not significant while $\\sigma_{os}$ is significant makes that we cannot say much about the heterogeneity of tastes for the OS <br>\n",
    "E. None of the above"
   ]
  },
  {
   "cell_type": "markdown",
   "metadata": {},
   "source": [
    "`12` Given the results of the three models that you have estimated so far, what is the 'best' next model to estimate? <br>\n",
    "A. A Panel Mixed Logit model which accounts for nesting effects. Thereby, we are able to uncover whether alternatives are correlated in terms of unobserved factors. <br>\n",
    "B.  An MNL model in which we try to interact Gender with tastes, e.g. for size and camera quality. <br>\n",
    "C. A Panel Mixed Logit model in which we interact AGE and taste for OS. By combining the insights from Models 2 and 3 we can further refine our understanding of the importance of the OS to different age groups.<br>\n",
    "D. A fully connected MLP. Thereby, we can see how much variance is unexplained by the current models. <br>"
   ]
  }
 ],
 "metadata": {
  "kernelspec": {
   "display_name": "sen1221env",
   "language": "python",
   "name": "python3"
  },
  "language_info": {
   "codemirror_mode": {
    "name": "ipython",
    "version": 3
   },
   "file_extension": ".py",
   "mimetype": "text/x-python",
   "name": "python",
   "nbconvert_exporter": "python",
   "pygments_lexer": "ipython3",
   "version": "3.11.5"
  }
 },
 "nbformat": 4,
 "nbformat_minor": 2
}
