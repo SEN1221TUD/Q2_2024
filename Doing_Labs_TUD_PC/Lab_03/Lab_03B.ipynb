{
 "cells": [
  {
   "cell_type": "markdown",
   "metadata": {},
   "source": [
    "# SEN122A Statistical Analysis of Choice Behaviour \n",
    "\n",
    "## `Session Lab 03 EXTRA:`\n",
    "## `Combining machine learning and discrete choice models`\n",
    "\n",
    "**Delft University of Technology**<br>\n",
    "**Q2 2024**<br>\n",
    "**Instructor:** Sander van Cranenburgh<br>\n",
    "**TA:**  Gabriel Nova <br>"
   ]
  },
  {
   "cell_type": "markdown",
   "metadata": {},
   "source": [
    "### `Instructions`\n",
    "\n",
    "**Lab sessions aim to:**<br>\n",
    "* Show and reinforce how models and ideas presented in class are put to practice.<br>\n",
    "* Help you gather hands-on machine learning skills.<br>\n",
    "\n",
    "**Lab sessions are:**<br>\n",
    "* Learning environments where you work with Jupyter notebooks and where you can get support from TAs and fellow students.<br> \n",
    "* Not graded and do not have to be submitted. "
   ]
  },
  {
   "cell_type": "markdown",
   "metadata": {},
   "source": [
    "### `Application: Modelling neighbourhood choices`\n",
    "\n",
    "In this lab session, we will use neighbourhood location choice data of lab session 1: Stated Choice (SC) data, which was collected between 2017 and 2018 in four European cities: Hanover, Mainz, Bern, and Zurich. During this lab session, you will train a neural network and a hybrid choices model to uncover people's preferences over residential location choice attributes, such as the distance to the city centre and the share of foreigners in their neighbourhood. \n",
    "\n",
    "![sc](data/sc_experiment.png)\n",
    "\n",
    "\n",
    "This time the emphesize is on the balance that the researcher must strike between behavioural rigour and model fit.\n",
    "To do so, in this lab session you will (1) develop a multilayer perceptron model and (2) build a hybrid choice models.\n",
    "\n",
    "**`Learning objectives lab session 03`**\n",
    "\n",
    "After completing the following lab session you will be able to:\n",
    "* Train a hybrid choice model, using PyTorch\n",
    "* Strike a balance between behavioural rigour and model fit\n",
    "* Reflect on the strength and weaknesses of both data and theory-driven modelling approaches\n",
    "\n",
    "\n",
    "**`This lab consists of 1 part and has 2 exercises`**\n",
    "\n",
    "**Part 1**: The L-MNL model\n",
    "- Excerise 1: \"Features in MLP of LMNL model\"\n",
    "- Excerise 2: \"Forecasting using L-MNL model\""
   ]
  },
  {
   "cell_type": "markdown",
   "metadata": {},
   "source": [
    "#### `Import packages`"
   ]
  },
  {
   "cell_type": "code",
   "execution_count": null,
   "metadata": {},
   "outputs": [],
   "source": [
    "# In this environment Biogeme is not available, but the outputs of the linear-adittive RUM-MNL model have been kept. \n",
    "# Please, do not uncomment the following lines if you are running this code in an environment where Biogeme is not available.\n",
    "#import biogeme.database as db\n",
    "#import biogeme.biogeme as bio\n",
    "#from biogeme import models\n",
    "#from biogeme.expressions import Beta, Variable, log\n",
    "biogeme_available = False\n",
    "\n",
    "# Import required Python packages and modules\n",
    "import pandas as pd\n",
    "import matplotlib.pyplot as plt\n",
    "import numpy as np\n",
    "from pathlib import Path\n",
    "\n",
    "# Scikit-learn\n",
    "from sklearn.preprocessing import StandardScaler\n",
    "\n",
    "#Pytorch\n",
    "import torch\n",
    "import torch.nn as nn\n",
    "import torch.optim as optim\n",
    "from torch.utils.data import DataLoader, TensorDataset\n",
    "\n",
    "# Import custom functions\n",
    "from train_functions import show_loss_plot, print_model_summary, evaluate_lmnl\n",
    "\n",
    "# Pandas setting to show all columns when displaying a pandas dataframe\n",
    "pd.set_option('display.max_columns', None)"
   ]
  },
  {
   "cell_type": "markdown",
   "metadata": {},
   "source": [
    "## Part 1: The L-MNL model"
   ]
  },
  {
   "cell_type": "markdown",
   "metadata": {},
   "source": [
    "### `1. Load the data set prepared in Lab 03` <br>"
   ]
  },
  {
   "cell_type": "code",
   "execution_count": null,
   "metadata": {},
   "outputs": [],
   "source": [
    "# Create that path to the data file\n",
    "data_path = Path(f'data/choice_data_cleaned_lab3E.dat')\n",
    "\n",
    "# Load mode choice data into a pandas DataFrame\n",
    "df = pd.read_csv(data_path, sep='\\t')\n",
    "\n",
    "# Define the relevant features of the alternatives\n",
    "features_alt =   ['STORES1', 'TRANSPORT1', 'CITY1', 'NOISE1', 'GREEN1', 'FOREIGN1', \n",
    "                  'STORES2', 'TRANSPORT2', 'CITY2', 'NOISE2', 'GREEN2', 'FOREIGN2',\n",
    "                  'STORES3', 'TRANSPORT3', 'CITY3', 'NOISE3', 'GREEN3', 'FOREIGN3']\n",
    "\n",
    "# Define the relevant socio-economic variables\n",
    "features_socio = ['AGE_2','AGE_3','WOMAN_1','HOMEOWNER_1','CAROWNER_1','RESPCITY_2','RESPCITY_3','RESPCITY_4','JOB_1','NONWESTERN_1','WESTERN_1']\n",
    "\n",
    "# Show the first few rows of the dataframe\n",
    "df.head()"
   ]
  },
  {
   "cell_type": "code",
   "execution_count": null,
   "metadata": {},
   "outputs": [],
   "source": [
    "# Reconstruct the test and training sets\n",
    "df_train = df.loc[df['train_set'] == True,:].copy()\n",
    "df_test  = df.loc[df['test_set'] == True,:].copy()\n",
    "\n",
    "# Number of observations in the training and test sets\n",
    "num_obs_train = len(df_train)\n",
    "num_obs_test  = len(df_test)\n",
    "\n",
    "print(f'Number of individuals in the df_train and df_test: \\t{df_train.ID.nunique()}  {df_test.ID.nunique()} ')\n",
    "print(f'Number of observations in the df_train and df_test: \\t{len(df_train)} {len(df_test)} ')"
   ]
  },
  {
   "cell_type": "markdown",
   "metadata": {},
   "source": [
    "To efficiently train MLPs it strongly recommended to scale (a.k.a. normalise) the features. We use sk-learn's 'StandardScaler'. "
   ]
  },
  {
   "cell_type": "code",
   "execution_count": null,
   "metadata": {},
   "outputs": [],
   "source": [
    "# Create X_train and X_test\n",
    "x_train = df_train[features_alt + features_socio]\n",
    "x_test  = df_test [features_alt + features_socio]\n",
    "\n",
    "# Initialize the scaler object\n",
    "scaler = StandardScaler()\n",
    "\n",
    "# Fit and transform the training data\n",
    "scaler = scaler.fit(df[features_alt + features_socio])\n",
    "\n",
    "# Apply the fitted scaler to the  data sets\n",
    "x_train_scaled = pd.DataFrame(scaler.transform(df_train[features_alt + features_socio]), columns=[features_alt + features_socio])\n",
    "x_test_scaled =  pd.DataFrame(scaler.transform(df_test [features_alt + features_socio]), columns=[features_alt + features_socio]) # Apply the fitted scaler to the test data\n",
    "\n",
    "print('Shape of x_train', x_train_scaled.shape)\n",
    "print('Shape of x_test', x_test_scaled.shape)\n",
    "\n",
    "# Create the target values\n",
    "# Y must be a dummy coded array\n",
    "y_train_dummy = pd.get_dummies(df_train['CHOICE']).values.astype(int)\n",
    "y_test_dummy = pd.get_dummies(df_test['CHOICE']).values.astype(int)"
   ]
  },
  {
   "cell_type": "markdown",
   "metadata": {},
   "source": [
    "### `The L-MNL model `"
   ]
  },
  {
   "cell_type": "markdown",
   "metadata": {},
   "source": [
    "Next, we will build and train a hybrid model, namely the L-MNL model. This model combines an interpretable part following the assumptions of the MNL model and a neural network that processes the rest of the variables that we do not want to interpret. More specifically, we want the **flexibility** of the MLP but still want to get out an **estimate of the willingness to pay to reduce the walking distance to the grocery stores, expressed in terms of distance to the public transport**.\n",
    "\n",
    "The figure below conceptually shows this model:<br>\n",
    "\n",
    "<p align=\"center\">\n",
    "<img width=\"600\" src=\"assets/hybrid_model.png\">\n",
    "</p>"
   ]
  },
  {
   "cell_type": "markdown",
   "metadata": {},
   "source": [
    "`i. Define the L-MNL model`<br>\n",
    "To create the L-MNL model,we create a new class using PyTorch's nn.Module. <br>\n",
    "* The MNL part is implemented with separate linear layers for features (transport and foreign), allowing the utility to be calculated for each alternative. <br>\n",
    "* The MLP part consists of two hidden layers (linear1 and linear2) with a given number of neurons.<br>\n",
    "* The forward function takes `x_mnl` and `x_mlp` as inputs. x_mlp is passed through the network layers, while applying activation functions. It outputs the utilities of each alternative `V_MLP`. x_mnl is used to compute utilities in a linear-additive fashion. \n",
    "* Finally, the utilities of boths parts are summed."
   ]
  },
  {
   "cell_type": "code",
   "execution_count": null,
   "metadata": {},
   "outputs": [],
   "source": [
    "class LMNL(nn.Module):\n",
    "    def __init__(self, input_size_mlp, hidden_size1, hidden_size2,output_size):\n",
    "        super(LMNL,self).__init__()\n",
    "\n",
    "        # Create betas for the MNL part\n",
    "        self.B_transport = nn.Linear(1, 1, bias=False )\n",
    "        self.B_stores   = nn.Linear(1, 1, bias=False )\n",
    "                                 \n",
    "        # Create the hidden layers for the MLP part\n",
    "        self.linear1 = nn.Linear(input_size_mlp, hidden_size1, bias=False)\n",
    "        self.linear2 = nn.Linear(hidden_size1,   hidden_size2, bias=False) \n",
    "        self.linear3 = nn.Linear(hidden_size2,   output_size,  bias=False) \n",
    "\n",
    "    def forward(self, X_MNL, X_MLP):\n",
    "        \n",
    "        # Utility functions for the MNL part \n",
    "        V_A = self.B_transport(X_MNL[:,0].unsqueeze(1))  + self.B_stores(X_MNL[:,1].unsqueeze(1))\n",
    "        V_B = self.B_transport(X_MNL[:,2].unsqueeze(1))  + self.B_stores(X_MNL[:,3].unsqueeze(1))\n",
    "        V_C = self.B_transport(X_MNL[:,4].unsqueeze(1))  + self.B_stores(X_MNL[:,5].unsqueeze(1))\n",
    "                     \n",
    "        # Concatenating tensors to maintain the output dimension\n",
    "        V_MNL = torch.cat((V_A, V_B, V_C), dim=1)\n",
    "\n",
    "        # The MLP part\n",
    "        X_MLP = torch.tanh(self.linear1(X_MLP)) # tanh activation function for the 1st layer\n",
    "        X_MLP = torch.tanh(self.linear2(X_MLP)) # tanh activation function for the 2nd layer\n",
    "        V_MLP = self.linear3(X_MLP)             # linear activation function for the output layer\n",
    "\n",
    "        # Sum the utilities from the MNL and MLP parts\n",
    "        V = V_MNL + V_MLP\n",
    "        return V"
   ]
  },
  {
   "cell_type": "markdown",
   "metadata": {},
   "source": [
    "`ii. Prepare the data for training the L-MNL model`<br>\n",
    "We need to split the features going into the MLP and MNL parts. Because we want to compute the WTP of stores over transport. Therefore, the features related to transport and stores go into the MNL part, while the other features, including socio-demographics, go into the MLP part. **Importantly**, the MNL features must NOT be scaled."
   ]
  },
  {
   "cell_type": "code",
   "execution_count": null,
   "metadata": {},
   "outputs": [],
   "source": [
    "# Create dataframe with features for MNL part\n",
    "features_mnl = ['TRANSPORT1', 'STORES1','TRANSPORT2', 'STORES2','TRANSPORT3', 'STORES3']\n",
    "x_mnl_train = x_train[features_mnl]\n",
    "x_mnl_test  = x_test[features_mnl]\n",
    "\n",
    "print('Shape of x_mnl_train\\t', x_mnl_train.shape)\n",
    "print('Shape of x_mnl_test\\t', x_mnl_test.shape)\n",
    "\n",
    "# Create dataframe with features for MLP part\n",
    "features_mlp_alt = ['FOREIGN1', 'CITY1', 'NOISE1', 'GREEN1', \n",
    "                    'FOREIGN2', 'CITY2', 'NOISE2', 'GREEN2', \n",
    "                    'FOREIGN3', 'CITY3', 'NOISE3', 'GREEN3']\n",
    "\n",
    "\n",
    "features_socio = ['RESPCITY_2','RESPCITY_3','RESPCITY_4']\n",
    "x_mlp_train = x_train_scaled[features_mlp_alt + features_socio]\n",
    "x_mlp_test  = x_test_scaled[features_mlp_alt + features_socio]\n",
    "\n",
    "print('\\nShape of x_mlp_train\\t', x_mlp_train.shape)\n",
    "print('Shape of x_mlp_test\\t', x_mlp_test.shape)"
   ]
  },
  {
   "cell_type": "markdown",
   "metadata": {},
   "source": [
    "Convert data to PyTorch tensors"
   ]
  },
  {
   "cell_type": "code",
   "execution_count": null,
   "metadata": {},
   "outputs": [],
   "source": [
    "# train\n",
    "x_mnl_train_tensor = torch.tensor(x_mnl_train.values, dtype=torch.float)\n",
    "x_mlp_train_tensor = torch.tensor(x_mlp_train.values, dtype=torch.float)\n",
    "y_train_dummy_tensor = torch.tensor(y_train_dummy,    dtype=torch.float)\n",
    "\n",
    "# test\n",
    "x_mnl_test_tensor = torch.tensor(x_mnl_test.values, dtype=torch.float)\n",
    "x_mlp_test_tensor = torch.tensor(x_mlp_test.values, dtype=torch.float)\n",
    "y_test_dummy_tensor = torch.tensor(y_test_dummy,    dtype=torch.float)\n",
    "\n",
    "print('Size of the X_mnl_train tensor = ', x_mnl_train_tensor.size())\n",
    "print('Size of the X_mlp_train tensor = ', x_mlp_train_tensor.size())\n",
    "print('\\nSize of the X_mnl_test tensor  = ', x_mnl_test_tensor.size())\n",
    "print('Size of the X_mlp_test tensor  = ', x_mlp_test_tensor.size())"
   ]
  },
  {
   "cell_type": "markdown",
   "metadata": {},
   "source": [
    "Create PyTorch DataLoaders"
   ]
  },
  {
   "cell_type": "code",
   "execution_count": null,
   "metadata": {},
   "outputs": [],
   "source": [
    "# Create a DataLoader for the train set\n",
    "dataset_train_lmnl = TensorDataset(x_mnl_train_tensor, x_mlp_train_tensor, y_train_dummy_tensor)\n",
    "train_loader_lmnl = DataLoader(dataset_train_lmnl, batch_size=250, shuffle=True)\n",
    "\n",
    "# Create a DataLoader for the test set\n",
    "dataset_test_lmnl = TensorDataset(x_mnl_test_tensor, x_mlp_test_tensor, y_test_dummy_tensor)\n",
    "test_loader_lmnl = DataLoader(dataset_test_lmnl, batch_size=len(x_mnl_test_tensor), shuffle=False)"
   ]
  },
  {
   "cell_type": "markdown",
   "metadata": {},
   "source": [
    "`iv. Create the L-MNL model object`<br>"
   ]
  },
  {
   "cell_type": "code",
   "execution_count": null,
   "metadata": {},
   "outputs": [],
   "source": [
    "# Define the dimensions\n",
    "input_size_mnl = x_mnl_train_tensor.size()[1]  # Number of input features\n",
    "input_size_mlp = x_mlp_train_tensor.size()[1]  # Number of input features\n",
    "hidden_size1 = 10  # Number of units in first hidden layer\n",
    "hidden_size2 = 10  # Number of units in second hidden layer\n",
    "output_size = 3    # Number of output classes\n",
    "print(f' input_size_mnl = {input_size_mnl}, input_size_mlp = {input_size_mlp}, hidden_size1 = {hidden_size1}, hidden_size2 = {hidden_size2}, output_size = {output_size}')"
   ]
  },
  {
   "cell_type": "code",
   "execution_count": null,
   "metadata": {},
   "outputs": [],
   "source": [
    "# Invoke the L-MNL model\n",
    "model = LMNL(input_size_mlp, hidden_size1, hidden_size2, output_size)\n",
    "\n",
    "# Print the model architecture\n",
    "print_model_summary(model)"
   ]
  },
  {
   "cell_type": "markdown",
   "metadata": {},
   "source": [
    "`v. Train the L-MNL model`<br>\n",
    "Finally, we are ready to train the L-MNL model!"
   ]
  },
  {
   "cell_type": "code",
   "execution_count": null,
   "metadata": {},
   "outputs": [],
   "source": [
    "# Define training settings\n",
    "nEpoch = 1000  # Set the number of epochs\n",
    "lr = 0.0001  # Set the learning rate\n",
    "status = 10  # Print status every 'status' epochs\n",
    "patience = 5  # Number of epochs to wait before early stopping"
   ]
  },
  {
   "cell_type": "code",
   "execution_count": null,
   "metadata": {},
   "outputs": [],
   "source": [
    "# Define the loss function and optimizer\n",
    "loss_fn = nn.CrossEntropyLoss(reduction='sum')\n",
    "optimizer = optim.Adam(params=model.parameters(), lr=lr,  betas=(0.9, 0.999), eps=1e-07, weight_decay=0)\n",
    "\n",
    "# Define lists to store losses\n",
    "train_losses = []\n",
    "test_losses = []\n",
    "\n",
    "# Initialize early stopping counter \n",
    "counter = 0\n",
    "best_loss = np.inf  # Set initial loss to infinity\n",
    "\n",
    "# Training loop\n",
    "for epoch in range(nEpoch):\n",
    "    running_loss = 0.0\n",
    "    for x_mnl, x_mlp, labels in train_loader_lmnl:\n",
    "        \n",
    "        # Zero the gradients\n",
    "        optimizer.zero_grad()\n",
    "\n",
    "        # Forward pass\n",
    "        outputs = model(x_mnl,x_mlp)   \n",
    "\n",
    "        # Compute the loss\n",
    "        loss = loss_fn(outputs, labels)\n",
    "\n",
    "        # Backward pass and optimization\n",
    "        loss.backward()\n",
    "        optimizer.step()\n",
    "\n",
    "        # Update running loss\n",
    "        running_loss += loss.item() # Log-likelihood on the training set\n",
    "\n",
    "    # Evaluate on the test set\n",
    "    test_loss = evaluate_lmnl(model, loss_fn, test_loader_lmnl)\n",
    "\n",
    "    # Print status every 'status' epochs or epoch 0\n",
    "    if epoch == 0 or (epoch + 1) % status == 0:\n",
    "        print(f'Epoch [{epoch+1:5.0f}/{nEpoch}], Train Loss: {running_loss:0.3f}, Test Loss: {test_loss:0.3f}')\n",
    "\n",
    "    # Store losses\n",
    "    train_losses.append(running_loss)\n",
    "    test_losses.append(test_loss)\n",
    "\n",
    "    # Implement early stopping\n",
    "    if test_loss < best_loss:\n",
    "        best_loss = test_loss\n",
    "        counter = 0\n",
    "    else:\n",
    "        counter += 1\n",
    "        if counter >= patience:\n",
    "            print(f'Early stopping at epoch {epoch+1}')\n",
    "            break\n",
    "        \n",
    "print(f'\\nTraining finished.\\tTrain Loss: {running_loss:0.3f}, Test Loss: {test_loss:0.3f}')\n",
    "show_loss_plot(train_losses, test_losses, num_obs_train, num_obs_test)"
   ]
  },
  {
   "cell_type": "code",
   "execution_count": null,
   "metadata": {},
   "outputs": [],
   "source": [
    "# Compute the Willingness to pay to reduce the distance to the grovery store by one minute\n",
    "LL_LMNL = best_loss\n",
    "B_transport_LMNL = model.B_transport.weight.data.item()\n",
    "B_stores_LMNL = model.B_stores.weight.data.item()\n",
    "\n",
    "WTP_LMNL = B_stores_LMNL/B_transport_LMNL\n",
    "print(f'\\nWillingness to pay to reduce one minute of walking time to the grocery store is: {WTP_LMNL:.2f} walking minutes to the public transport')"
   ]
  },
  {
   "cell_type": "markdown",
   "metadata": {},
   "source": [
    "`Reflections`\n",
    "1. The L-MNL model attains a model fit that is very close to the fully flexible MLP model\n",
    "1. The L-MNL model gives insight into the trade-off between distance to the grocery stores and distance to the public transport\n",
    "1. The results recovered WTP is not stable, it fluctuates over runs. "
   ]
  },
  {
   "cell_type": "markdown",
   "metadata": {},
   "source": [
    "## `Exercise 1: Features in MLP of LMNL model`<br>"
   ]
  },
  {
   "cell_type": "markdown",
   "metadata": {},
   "source": [
    "`A` Try reducing the number of features that are feed into the MLP and assess the impact on the model performance and WTP. <br>\n",
    "E.g. only use `RESPCITY` and `WOMAN`, as in lab session 1 we saw these variables had a significant impact<br>"
   ]
  },
  {
   "cell_type": "code",
   "execution_count": null,
   "metadata": {},
   "outputs": [],
   "source": [
    "# Your code and answers"
   ]
  },
  {
   "cell_type": "markdown",
   "metadata": {},
   "source": [
    "## `Exercise 2: Forecasting using L-MNL`<br>"
   ]
  },
  {
   "cell_type": "markdown",
   "metadata": {},
   "source": [
    "Suppose that a researcher would like to use this model to make forecasts for Zurich (as we did in Lab session 1). However, this is more challenging.<br>\n",
    "\n",
    "`A` Give 2 reasons why making forecasts using the L-MNL model is less straightforward than using the MNL models<br>\n",
    "`B` Give 2 arguments in favour of using the L-MNL model for informing the municipality of Zurich about the impacts of the planned redevelopment on the residential demand per neighbourhood.<br>\n",
    "`C` Suppose that you are hired to assist and advise this researcher. What would you advise in terms of e.g. the specification of the L-MNL model, training, benchmarking, etc.<br>"
   ]
  },
  {
   "cell_type": "code",
   "execution_count": null,
   "metadata": {},
   "outputs": [],
   "source": [
    "# Your code and answers"
   ]
  }
 ],
 "metadata": {
  "kernelspec": {
   "display_name": "new_SEN",
   "language": "python",
   "name": "python3"
  },
  "language_info": {
   "codemirror_mode": {
    "name": "ipython",
    "version": 3
   },
   "file_extension": ".py",
   "mimetype": "text/x-python",
   "name": "python",
   "nbconvert_exporter": "python",
   "pygments_lexer": "ipython3",
   "version": "3.11.9"
  }
 },
 "nbformat": 4,
 "nbformat_minor": 2
}
